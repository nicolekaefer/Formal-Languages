{
 "cells": [
  {
   "cell_type": "code",
   "execution_count": 1,
   "metadata": {},
   "outputs": [
    {
     "data": {
      "text/html": [
       "<link href='http://fonts.googleapis.com/css?family=Alegreya+Sans:100,300,400,500,700,800,900,100italic,300italic,400italic,500italic,700italic,800italic,900italic' rel='stylesheet' type='text/css'>\n",
       "<link href='http://fonts.googleapis.com/css?family=Arvo:400,700,400italic' rel='stylesheet' type='text/css'>\n",
       "<link href='http://fonts.googleapis.com/css?family=PT+Mono' rel='stylesheet' type='text/css'>\n",
       "<link href='http://fonts.googleapis.com/css?family=Shadows+Into+Light' rel='stylesheet' type='text/css'>\n",
       "<link href='http://fonts.googleapis.com/css?family=Philosopher:400,700,400italic,700italic' rel='stylesheet' type='text/css'>\n",
       "<link href=\"http://fonts.googleapis.com/css?family=Sacramento\" rel=\"stylesheet\" type=\"text/css\">\n",
       "\n",
       "<style>\n",
       "\n",
       "@font-face {\n",
       "    font-family: \"Computer Modern\";\n",
       "    src: url('http://mirrors.ctan.org/fonts/cm-unicode/fonts/otf/cmunss.otf');\n",
       "}\n",
       "\n",
       ".container { width: 100% }\n",
       "\n",
       "/* Formatting for header cells */\n",
       ".text_cell_render h1 {\n",
       "    font-family: 'Philosopher', sans-serif;\n",
       "    font-weight: 400;\n",
       "    font-size: 2.2em;\n",
       "    line-height: 100%;\n",
       "    color: rgb(0, 80, 120);\n",
       "    margin-bottom: 0.1em;\n",
       "    margin-top: 0.1em;\n",
       "    display: block;\n",
       "}\t\n",
       ".text_cell_render h2 {\n",
       "    font-family: 'Philosopher', serif;\n",
       "    font-weight: 400;\n",
       "    font-size: 1.9em;\n",
       "    line-height: 100%;\n",
       "    color: rgb(200,100,0);\n",
       "    margin-bottom: 0.1em;\n",
       "    margin-top: 0.1em;\n",
       "    display: block;\n",
       "}\t\n",
       "\n",
       ".text_cell_render h3 {\n",
       "    font-family: 'Philosopher', serif;\n",
       "    margin-top:12px;\n",
       "    margin-bottom: 3px;\n",
       "    font-style: italic;\n",
       "    color: rgb(94,127,192);\n",
       "}\n",
       "\n",
       ".text_cell_render h4 {\n",
       "    font-family: 'Philosopher', serif;\n",
       "}\n",
       "\n",
       ".text_cell_render h5 {\n",
       "    font-family: 'Alegreya Sans', sans-serif;\n",
       "    font-weight: 300;\n",
       "    font-size: 16pt;\n",
       "    color: grey;\n",
       "    font-style: italic;\n",
       "    margin-bottom: .1em;\n",
       "    margin-top: 0.1em;\n",
       "    display: block;\n",
       "}\n",
       "\n",
       ".text_cell_render h6 {\n",
       "    font-family: 'PT Mono', sans-serif;\n",
       "    font-weight: 300;\n",
       "    font-size: 10pt;\n",
       "    color: grey;\n",
       "    margin-bottom: 1px;\n",
       "    margin-top: 1px;\n",
       "}\n",
       "\n",
       ".text_cell_render em {\n",
       "    font-family: 'Philosopher', sans-serif;\n",
       "    color:        blue;\n",
       "    background-color: rgb(255,220,180);\n",
       "    font-size:    110%;\n",
       "    margin-left:   2px;\n",
       "    margin-right:  2px;\n",
       "    font-weight:   100;\n",
       "}\n",
       "\n",
       ".text_cell_render b {\n",
       "    color:            rgb(255,195,195);\n",
       "    background-color: rgb(0,0,0);\n",
       "    font-size:    110%;\n",
       "    margin-left:   2px;\n",
       "    margin-right:  2px;\n",
       "    font-weight:   650;\n",
       "}\n",
       "\n",
       ".text_cell_render u {\n",
       "    color:            blue;\n",
       "    font-size:    110%;\n",
       "    margin-left:   2px;\n",
       "    margin-right:  2px;\n",
       "    font-weight:   650;\n",
       "}\n",
       "\n",
       ".text_cell_render tt {\n",
       "    font-size:    120%;\n",
       "    margin-left:   2px;\n",
       "    margin-right:  2px;\n",
       "    font-weight:   150;\n",
       "}\n",
       "\n",
       ".Codemirror {\n",
       "    font-family: \"PT Mono\";\n",
       "    font-size: 100%;\n",
       "}\n",
       "\n",
       "#fancy {\n",
       "    font-family:      Georgia;\n",
       "    position:         relative;\n",
       "    float:            left;\n",
       "    border:           2px solid red;\n",
       "    width:            600px;\n",
       "    padding-left:     20px;\n",
       "    padding-right:    20px;\n",
       "    padding-top:      10px;\n",
       "    font-family:      'Sacramento', cursive;\n",
       "    font-size:        26px;\n",
       "    background-color: #F4EBF3;\n",
       "    border-radius:    15px;\n",
       "}\n",
       "\n",
       "</Style>\n",
       "\n"
      ],
      "text/plain": [
       "<IPython.core.display.HTML object>"
      ]
     },
     "execution_count": 1,
     "metadata": {},
     "output_type": "execute_result"
    }
   ],
   "source": [
    "from IPython.display import HTML\n",
    "HTML(open('../../style.css').read())"
   ]
  },
  {
   "cell_type": "markdown",
   "metadata": {},
   "source": [
    "# Converting $\\LaTeX$ to <span style=\"font-variant:small-caps;\">Html</span>"
   ]
  },
  {
   "cell_type": "markdown",
   "metadata": {},
   "source": [
    "The purpose of the following exercise is to implement a translator from [$\\LaTeX$](http://www.latex-project.org) to \n",
    "[MathML](https://www.tutorialspoint.com/mathml/index.htm).  $\\LaTeX$ is a document markup language\n",
    "that is especially well suited to present text that contains mathematical formulas.  MathML is the part of <span style=\"font-variant:small-caps;\">Html</span> that deals with the representation of mathematical formulas.  As $\\LaTeX$ provides a very rich\n",
    "document markup language and we can only afford to spend a few hours on this exercise, we confine\n",
    "ourselves to a small subset of $\\LaTeX$.  The file `example.tex` contains some $\\LaTeX$.  The goal of this exercise is to implement a translator that is able to transform this file into MathML.\n",
    "\n",
    "We start with reading the file. "
   ]
  },
  {
   "cell_type": "code",
   "execution_count": 2,
   "metadata": {},
   "outputs": [],
   "source": [
    "with open('example.tex') as f:\n",
    "    data = f.read()"
   ]
  },
  {
   "cell_type": "markdown",
   "metadata": {},
   "source": [
    "Now data contains the text that is stored in this file."
   ]
  },
  {
   "cell_type": "code",
   "execution_count": 3,
   "metadata": {},
   "outputs": [
    {
     "name": "stdout",
     "output_type": "stream",
     "text": [
      "\\documentclass{article}\n",
      "\n",
      "\\begin{document}\n",
      "The sum of the squares of the first $n$ natural numbers is given as:\n",
      "$$ \\sum\\limits_{i=1}^{n} i^{2} = \\frac{1}{6} \\cdot n \\cdot (n+1) \\cdot (2\\cdot n + 1). $$\n",
      "According to Pythagoras, the length of the hypotenuse of a right-angled triangle is\n",
      "the square root of the squares of the length of the two catheti:\n",
      "$$ c = \\sqrt{a^{2} + b^{2}}.  $$\n",
      "The area of a circle is given as \n",
      "$$  A = \\pi \\cdot r^{2},   $$ \n",
      "while its circumference satisfies\n",
      "$$ C = 2 \\cdot \\pi \\cdot r.  $$\n",
      "\\end{document}\n",
      "\n",
      "\n",
      "\n"
     ]
    }
   ],
   "source": [
    "print(data)"
   ]
  },
  {
   "cell_type": "markdown",
   "metadata": {},
   "source": [
    "Let us look at the output file `example.pdf` that is produced if we run $\\LaTeX$ on this file. \n",
    "If you are nor running <span style=\"font-variant:small-caps;\">MacOS</span> you have to replace the command\n",
    "`open` with the name of an executable that can open a `.pdf`-file."
   ]
  },
  {
   "cell_type": "code",
   "execution_count": 4,
   "metadata": {},
   "outputs": [],
   "source": [
    "!open example.pdf"
   ]
  },
  {
   "cell_type": "markdown",
   "metadata": {},
   "source": [
    "Next, we open the file `example.html`.  The scanner we are going to implement has to write its output into this file."
   ]
  },
  {
   "cell_type": "code",
   "execution_count": 5,
   "metadata": {},
   "outputs": [],
   "source": [
    "outfile = open('example.html', 'w')"
   ]
  },
  {
   "cell_type": "markdown",
   "metadata": {},
   "source": [
    "<hr style=\"height:4px;background-color:blue\">\n",
    "Below are some predefined functions that you can use to create the <span style=\"font-variant:small-caps;\">Html</span> file.\n",
    "<hr style=\"height:4px;background-color:blue\">"
   ]
  },
  {
   "cell_type": "markdown",
   "metadata": {},
   "source": [
    "The function `start_html` writes the header of the <span style=\"font-variant:small-caps;\">Html</span> file\n",
    "and the opening `<body>` tag to the file opened above."
   ]
  },
  {
   "cell_type": "code",
   "execution_count": 6,
   "metadata": {},
   "outputs": [],
   "source": [
    "def start_html():\n",
    "    outfile.write('<!doctype html>\\n')\n",
    "    outfile.write('<html>\\n')\n",
    "    outfile.write('<head>\\n')\n",
    "    outfile.write('<script type=\"text/javascript\" ')\n",
    "    outfile.write('src=\"http://cdn.mathjax.org/mathjax/latest/MathJax.js?config=TeX-AMS-MML_HTMLorMML\">\\n')\n",
    "    outfile.write('</script>\\n')\n",
    "    outfile.write('</head>')\n",
    "    outfile.write('<body>\\n\\n')"
   ]
  },
  {
   "cell_type": "markdown",
   "metadata": {},
   "source": [
    "The function `end_html` writes the closing `</body>` and `</html>` tags."
   ]
  },
  {
   "cell_type": "code",
   "execution_count": 7,
   "metadata": {},
   "outputs": [],
   "source": [
    "def end_html():\n",
    "    outfile.write('</body>\\n')\n",
    "    outfile.write('</html>\\n')"
   ]
  },
  {
   "cell_type": "markdown",
   "metadata": {},
   "source": [
    "The function `start_math_block` starts a math block.  This is useful for formulas enclosed in `$$`.  This type of formulas is displayed in a line by itself."
   ]
  },
  {
   "cell_type": "code",
   "execution_count": 8,
   "metadata": {},
   "outputs": [],
   "source": [
    "def start_math_block():\n",
    "    outfile.write('<math xmlns=\"http://www.w3.org/1998/Math/MathML\" display=\"block\">\\n')"
   ]
  },
  {
   "cell_type": "markdown",
   "metadata": {},
   "source": [
    "The function `start_math_inline` starts an <em style=\"color:blue\">inline formula</em>, i.e. a formula enclosed in `$`.  Formulas of this type are part of the surrounding text."
   ]
  },
  {
   "cell_type": "code",
   "execution_count": 9,
   "metadata": {},
   "outputs": [],
   "source": [
    "def start_math_inline():\n",
    "    outfile.write('<math xmlns=\"http://www.w3.org/1998/Math/MathML\" display=\"inline\">\\n')"
   ]
  },
  {
   "cell_type": "markdown",
   "metadata": {},
   "source": [
    "The function `start_math_block` ends a math block."
   ]
  },
  {
   "cell_type": "code",
   "execution_count": 10,
   "metadata": {},
   "outputs": [],
   "source": [
    "def end_math():\n",
    "    outfile.write('</math>\\n')"
   ]
  },
  {
   "cell_type": "markdown",
   "metadata": {},
   "source": [
    "The functions `start_sum` and `end_sum` write code to display formulas involving sums.  For example, to display  the expression\n",
    "$$ \\sum\\limits_{i=1}^n i^2 $$\n",
    "we can use the following MathML:\n",
    "```\n",
    "<munderover>\n",
    "<mo>&sum;</mo>\n",
    "<mrow>\n",
    "<mi>i</mi>\n",
    "<mo>=</mo>\n",
    "<mn>1</mn>\n",
    "</mrow>\n",
    "<mrow>\n",
    "<mi>n</mi>\n",
    "</mrow>\n",
    "</munderover>\n",
    "<msup>\n",
    "<mi>i</mi>\n",
    "<mrow>\n",
    "<mn>2</mn>\n",
    "</mrow>\n",
    "</msup>\n",
    "\n",
    "```"
   ]
  },
  {
   "cell_type": "code",
   "execution_count": 11,
   "metadata": {},
   "outputs": [],
   "source": [
    "def start_sum():\n",
    "    outfile.write('<munderover>\\n')\n",
    "    outfile.write('<mo>&sum;</mo>\\n')\n",
    "\n",
    "def end_sum():\n",
    "    outfile.write('</munderover>\\n')"
   ]
  },
  {
   "cell_type": "markdown",
   "metadata": {},
   "source": [
    "The functions `start_sqrt` and `end_sqrt` write code to display formulas involving square roots.  For example, to display  the expression\n",
    "$$ \\sqrt{a^2 + b^2} $$\n",
    "we can use the following MathML:\n",
    "```\n",
    "<msqrt>\n",
    "<mrow>\n",
    "<msup>\n",
    "<mi>a</mi>\n",
    "<mrow>\n",
    "<mn>2</mn>\n",
    "</mrow>\n",
    "</msup>\n",
    "<mo>+</mo>\n",
    "<msup>\n",
    "<mi>b</mi>\n",
    "<mrow>\n",
    "<mn>2</mn>\n",
    "</mrow>\n",
    "</msup>\n",
    "</mrow>\n",
    "</msqrt>\n",
    "```"
   ]
  },
  {
   "cell_type": "code",
   "execution_count": 12,
   "metadata": {},
   "outputs": [],
   "source": [
    "def start_sqrt():\n",
    "    outfile.write('<msqrt>\\n')\n",
    "\n",
    "def end_sqrt():\n",
    "    outfile.write('</msqrt>\\n')"
   ]
  },
  {
   "cell_type": "markdown",
   "metadata": {},
   "source": [
    "In order to write exponents we have to use the tag `<msup>`.  For example, the expression $a^2$ \n",
    "is equivalent to the following markup:\n",
    "```\n",
    "<msup>\n",
    "<mi>a</mi>\n",
    "<mrow>\n",
    "<mn>2</mn>\n",
    "</mrow>\n",
    "</msup>\n",
    "```\n",
    "Note that the exponent is enclosed in `<mrow>` `</mrow>` tags."
   ]
  },
  {
   "cell_type": "code",
   "execution_count": 13,
   "metadata": {},
   "outputs": [],
   "source": [
    "def start_super():\n",
    "    outfile.write('<msup>\\n')\n",
    "\n",
    "def end_super():\n",
    "    outfile.write('</msup>\\n')"
   ]
  },
  {
   "cell_type": "markdown",
   "metadata": {},
   "source": [
    "In order to write fractions we have to use the tag `<mfrac>`.  For example, the expression $\\frac{1}{6}$ \n",
    "is equivalent to the following markup:\n",
    "```\n",
    "<mfrac>\n",
    "<mrow>\n",
    "<mn>1</mn>\n",
    "</mrow>\n",
    "<mrow>\n",
    "<mn>6</mn>\n",
    "</mrow>\n",
    "</mfrac>\n",
    "```\n",
    "Note that both nominator and denominator are enclosed in `<mrow>` `</mrow>` tags."
   ]
  },
  {
   "cell_type": "code",
   "execution_count": 14,
   "metadata": {},
   "outputs": [],
   "source": [
    "def start_fraction():\n",
    "    outfile.write('<mfrac>\\n')\n",
    "\n",
    "def end_fraction():\n",
    "    outfile.write('</mfrac>\\n')"
   ]
  },
  {
   "cell_type": "markdown",
   "metadata": {},
   "source": [
    "Arguments of functions like the square root or exponents have to be enclosed in pairs of `<mrow>` and `</mrow>` tags.  "
   ]
  },
  {
   "cell_type": "code",
   "execution_count": 15,
   "metadata": {},
   "outputs": [],
   "source": [
    "def start_row():\n",
    "    outfile.write('<mrow>\\n')\n",
    "\n",
    "def end_row():\n",
    "    outfile.write('</mrow>\\n')"
   ]
  },
  {
   "cell_type": "markdown",
   "metadata": {},
   "source": [
    "Variable names should be enclosed in pairs of `<mi>` and `</mi>` tags.  For example, the variable $x$ is displayed by the following MathML:\n",
    "```\n",
    "<mi>x</mi>\n",
    "```"
   ]
  },
  {
   "cell_type": "code",
   "execution_count": 16,
   "metadata": {},
   "outputs": [],
   "source": [
    "def write_var(v):\n",
    "    outfile.write('<mi>' + v + '</mi>\\n')"
   ]
  },
  {
   "cell_type": "markdown",
   "metadata": {},
   "source": [
    "Numbers should be enclosed in pairs of `<mn>` and `</mn>` tags.  For example, the number $6$ is displayed by the following MathML:\n",
    "```\n",
    "<mn>6</mn>\n",
    "```"
   ]
  },
  {
   "cell_type": "code",
   "execution_count": 17,
   "metadata": {},
   "outputs": [],
   "source": [
    "def write_number(n):\n",
    "    outfile.write('<mn>' + n + '</mn>\\n')"
   ]
  },
  {
   "cell_type": "markdown",
   "metadata": {},
   "source": [
    "The symbol $\\cdot$ is created by the following MathML:\n",
    "```\n",
    "<mo>&sdot;</mo>\n",
    "```"
   ]
  },
  {
   "cell_type": "code",
   "execution_count": 18,
   "metadata": {},
   "outputs": [],
   "source": [
    "def write_times():\n",
    "    outfile.write('<mo>&sdot;</mo>\\n')"
   ]
  },
  {
   "cell_type": "markdown",
   "metadata": {},
   "source": [
    "Mathematical operators should be enclosed in pairs of `<mo>` and `</mo>` tags.  For example, the operator $+$ is displayed by the following MathML:\n",
    "```\n",
    "<mo>+</mo>\n",
    "```"
   ]
  },
  {
   "cell_type": "code",
   "execution_count": 19,
   "metadata": {},
   "outputs": [],
   "source": [
    "def write_operator(op):\n",
    "    outfile.write('<mo>' + op + '</mo>\\n')"
   ]
  },
  {
   "cell_type": "markdown",
   "metadata": {},
   "source": [
    "The symbol $\\pi$ is created by the following MathML:\n",
    "```\n",
    "<mn>&pi;</mn>\n",
    "```"
   ]
  },
  {
   "cell_type": "code",
   "execution_count": 20,
   "metadata": {},
   "outputs": [],
   "source": [
    "def write_pi():\n",
    "    outfile.write('<mn>&pi;</mn>\\n')"
   ]
  },
  {
   "cell_type": "markdown",
   "metadata": {},
   "source": [
    "The symbol $\\leq$ is created by the following MathML:\n",
    "```\n",
    "<mn>&le;</mn>\n",
    "```"
   ]
  },
  {
   "cell_type": "code",
   "execution_count": 21,
   "metadata": {},
   "outputs": [],
   "source": [
    "def write_leq():\n",
    "    outfile.write('<mo>&le;</mo>\\n')"
   ]
  },
  {
   "cell_type": "markdown",
   "metadata": {},
   "source": [
    "The symbol $\\geq$ is created by the following MathML:\n",
    "```\n",
    "<mn>&ge;</mn>\n",
    "```"
   ]
  },
  {
   "cell_type": "code",
   "execution_count": 22,
   "metadata": {},
   "outputs": [],
   "source": [
    "def write_geq():\n",
    "    outfile.write('<mo>&ge;</mo>\\n')"
   ]
  },
  {
   "cell_type": "markdown",
   "metadata": {},
   "source": [
    "The function `write_any` writes a single character unadorned to the output file."
   ]
  },
  {
   "cell_type": "code",
   "execution_count": 23,
   "metadata": {},
   "outputs": [],
   "source": [
    "def write_any(char):\n",
    "    outfile.write(char)"
   ]
  },
  {
   "cell_type": "markdown",
   "metadata": {},
   "source": [
    "We will be use the library [ply](https://ply.readthedocs.io/en/latest/ply.html) to translate $\\LaTeX$ into \n",
    "<span style=\"font-variant:small-caps;\">MathML</span>.\n",
    "We only use the scanner that is provided by the module `ply.lex`. \n",
    "Hence we import the module `ply.lex` that contains the scanner generator from `ply`."
   ]
  },
  {
   "cell_type": "code",
   "execution_count": 24,
   "metadata": {},
   "outputs": [],
   "source": [
    "import ply.lex as lex"
   ]
  },
  {
   "cell_type": "markdown",
   "metadata": {},
   "source": [
    "We have to declare all tokens below.  We will need tokens for the following parts of the $\\LaTeX$ file:\n",
    " - The $\\LaTeX$ file starts with the string `\\documentclass{article}`.\n",
    " - Next, there is the string `\\begin{document}` that starts the content.\n",
    " - The string &#92;`end{document}` ends the content.\n",
    " - The string `$$` starts and ends a formula that is displayed on a line by itself.\n",
    " - The string `$` starts and ends a formula that is displayed as part of the text.\n",
    " - The string `\\sum\\limits_\\{` starts the definition of a sum.\n",
    " - The string `\\sqrt\\{` starts the definition of a square root.\n",
    " - The string `\\frac\\{` starts the definition of a fraction.\n",
    " - A variable taken to a power starts something like `a^{`.\n",
    " - $\\vdots$"
   ]
  },
  {
   "cell_type": "code",
   "execution_count": 25,
   "metadata": {},
   "outputs": [],
   "source": [
    "tokens = [ 'HEAD',            # r'\\\\documentclass\\{article\\}'\n",
    "           'BEGIN_DOCUMENT',  # r'\\\\begin\\{document\\}'\n",
    "           'END_DOCUMENT',    # r'\\\\end\\{document\\}'\n",
    "           'DOLLAR_DOLLAR',   # r'\\$\\$'\n",
    "           'DOLLAR',          # r'\\$'\n",
    "           'SUM_LIMITS',      # r'\\\\sum\\\\limits_\\{'\n",
    "           'SQRT',            # r'\\\\sqrt\\{'\n",
    "           'FRAC',            # r'\\\\frac\\{'\n",
    "           'VARIABLE_HAT',    # r'[a-zA-Z]+\\^\\{'\n",
    "           'CB_HAT_OB',       # r'\\}\\^\\{|\\}\\{'\n",
    "           'CB',              # r'\\}'\n",
    "           'VARIABLE',        # r'[a-zA-Z]+'\n",
    "           'NUMBER',          # r'0|[1-9][0-9]*'\n",
    "           'CDOT',            # r'\\\\cdot'\n",
    "           'STAR',            # r'\\*'\n",
    "           'LT',              # r'<'\n",
    "           'GT',              # r'>'\n",
    "           'LEQ',             # r'\\\\leq'\n",
    "           'GEQ',             # r'\\\\geq'\n",
    "           'OPERATOR',        # r'[.,()+=-]'\n",
    "           'PI',              # r'\\\\pi'\n",
    "           'ANY',             # r'.|\\n'\n",
    "           'WS'               # r'[ \\t]'\n",
    "         ]"
   ]
  },
  {
   "cell_type": "markdown",
   "metadata": {},
   "source": [
    "When we see a closing brace `}` things get difficult.  The reason is that we need to know what type of formula is being closed. Is it a square root, the subscript of a sum, the superscript of a sum, some part of a fraction, or an exponent.  My idea is to use a stack that is attached to the lexer, i.e. we have a variable `lexer.stack` that stores this information.  We need a stack since formulas might be nested.\n",
    "\n",
    "Furthermore, the scanner has two different states.  Either we are inside a formula, i.e. inside something that is enclosed in dollar symbols, or we are inside text that needs to be echoed unchanged to the output file."
   ]
  },
  {
   "cell_type": "code",
   "execution_count": 26,
   "metadata": {},
   "outputs": [],
   "source": [
    "states = [ ('formula', 'exclusive') ]"
   ]
  },
  {
   "cell_type": "code",
   "execution_count": 27,
   "metadata": {},
   "outputs": [],
   "source": [
    "def t_HEAD(t):\n",
    "    r'\\\\documentclass\\{article\\}'\n",
    "    pass"
   ]
  },
  {
   "cell_type": "code",
   "execution_count": 28,
   "metadata": {},
   "outputs": [],
   "source": [
    "def t_BEGIN_DOCUMENT(t):\n",
    "    r'\\\\begin\\{document\\}'\n",
    "    start_html()"
   ]
  },
  {
   "cell_type": "code",
   "execution_count": 29,
   "metadata": {},
   "outputs": [],
   "source": [
    "def t_END_DOCUMENT(t):\n",
    "    r'\\\\end\\{document\\}'\n",
    "    end_html()"
   ]
  },
  {
   "cell_type": "code",
   "execution_count": 30,
   "metadata": {},
   "outputs": [],
   "source": [
    "def t_DOLLAR_DOLLAR(t):\n",
    "    r'\\$\\$'\n",
    "    t.lexer.begin('formula')\n",
    "    t.lexer.stack = []\n",
    "    t.lexer.stack.append('INITIAL')\n",
    "    start_math_block()"
   ]
  },
  {
   "cell_type": "markdown",
   "metadata": {},
   "source": [
    "def t_DOLLAR(t):\n",
    "    r'\\$'\n",
    "    t.lexer.begin('formula')\n",
    "    t.lexer.stack.append('INITIAL')\n",
    "    start_math_inline()"
   ]
  },
  {
   "cell_type": "code",
   "execution_count": 31,
   "metadata": {},
   "outputs": [],
   "source": [
    "def t_DOLLAR(t):\n",
    "    r'\\$'\n",
    "    t.lexer.begin('formula')\n",
    "    t.lexer.stack = []\n",
    "    t.lexer.stack.append('INITIAL')\n",
    "    start_math_inline()"
   ]
  },
  {
   "cell_type": "markdown",
   "metadata": {},
   "source": [
    "def t_WS(t):\n",
    "    r'[ \\t]'\n",
    "    write_any(char)"
   ]
  },
  {
   "cell_type": "code",
   "execution_count": 32,
   "metadata": {},
   "outputs": [],
   "source": [
    "def t_WS(t):\n",
    "    r'[ \\t]'\n",
    "    write_any(t.value)"
   ]
  },
  {
   "cell_type": "markdown",
   "metadata": {},
   "source": [
    "Missing"
   ]
  },
  {
   "cell_type": "code",
   "execution_count": 33,
   "metadata": {},
   "outputs": [],
   "source": [
    "def t_ANY(t):\n",
    "    r'.|\\n'\n",
    "    write_any(t.value)"
   ]
  },
  {
   "cell_type": "code",
   "execution_count": 34,
   "metadata": {},
   "outputs": [],
   "source": [
    "def t_formula_DOLLAR_DOLLAR(t):\n",
    "    r'\\$\\$'\n",
    "    t.lexer.begin('INITIAL')\n",
    "    end_math()"
   ]
  },
  {
   "cell_type": "code",
   "execution_count": 35,
   "metadata": {},
   "outputs": [],
   "source": [
    "def t_formula_DOLLAR(t):\n",
    "    r'\\$'\n",
    "    t.lexer.begin('INITIAL')\n",
    "    end_math()"
   ]
  },
  {
   "cell_type": "code",
   "execution_count": 36,
   "metadata": {},
   "outputs": [],
   "source": [
    "def t_formula_SUM_LIMITS(t):\n",
    "    r'\\\\sum\\\\limits_\\{'\n",
    "    t.lexer.stack.append('SUM_LIMITS')\n",
    "    start_sum()\n",
    "    start_row()"
   ]
  },
  {
   "cell_type": "code",
   "execution_count": 37,
   "metadata": {},
   "outputs": [],
   "source": [
    "def t_formula_SQRT(t):\n",
    "    r'\\\\sqrt\\{'\n",
    "    t.lexer.stack.append('SQRT')\n",
    "    start_sqrt()\n",
    "    start_row()"
   ]
  },
  {
   "cell_type": "code",
   "execution_count": 38,
   "metadata": {},
   "outputs": [],
   "source": [
    "def t_formula_FRAC(t):\n",
    "    r'\\\\frac\\{'\n",
    "    t.lexer.stack.append('FRAC')\n",
    "    start_fraction()\n",
    "    start_row()"
   ]
  },
  {
   "cell_type": "code",
   "execution_count": 39,
   "metadata": {},
   "outputs": [],
   "source": [
    "def t_formula_VARIABLE_HAT(t):\n",
    "    r'[a-zA-Z]+\\^\\{'\n",
    "    var = t.value[:-2]\n",
    "    t.lexer.stack.append('VARIABLE_HAT')\n",
    "    start_super()\n",
    "    write_var(var)\n",
    "    start_row()"
   ]
  },
  {
   "cell_type": "code",
   "execution_count": 40,
   "metadata": {},
   "outputs": [],
   "source": [
    "def t_formula_CB_HAT_OB(t):\n",
    "    r'\\}\\^\\{|\\}\\{'\n",
    "    end_row()\n",
    "    start_row()"
   ]
  },
  {
   "cell_type": "code",
   "execution_count": 41,
   "metadata": {},
   "outputs": [],
   "source": [
    "def t_formula_CB(t):\n",
    "    r'\\}'\n",
    "    topStack = t.lexer.stack.pop()\n",
    "    end_row()\n",
    "    match topStack:\n",
    "        case 'SUM_LIMITS':\n",
    "            end_sum()\n",
    "        case 'SQRT':\n",
    "            end_sqrt()\n",
    "        case 'FRAC':\n",
    "            end_fraction()\n",
    "        case 'VARIABLE_HAT':\n",
    "            end_super()"
   ]
  },
  {
   "cell_type": "code",
   "execution_count": 42,
   "metadata": {},
   "outputs": [],
   "source": [
    "def t_formula_VARIABLE(t):\n",
    "    r'[a-zA-Z]+'\n",
    "    write_var(t.value)"
   ]
  },
  {
   "cell_type": "code",
   "execution_count": 43,
   "metadata": {},
   "outputs": [],
   "source": [
    "def t_formula_NUMBER(t):\n",
    "    r'0|[1-9][0-9]*'\n",
    "    write_number(t.value)"
   ]
  },
  {
   "cell_type": "code",
   "execution_count": 44,
   "metadata": {},
   "outputs": [],
   "source": [
    "def t_formula_CDOT(t):\n",
    "    r'\\\\cdot'\n",
    "    write_times()"
   ]
  },
  {
   "cell_type": "code",
   "execution_count": 45,
   "metadata": {},
   "outputs": [],
   "source": [
    "def t_formula_STAR(t):\n",
    "    r'\\*'\n",
    "    write_any('*')"
   ]
  },
  {
   "cell_type": "code",
   "execution_count": 46,
   "metadata": {},
   "outputs": [],
   "source": [
    "def t_formula_LT(t):\n",
    "    r'<'\n",
    "    write_operator('&lt')"
   ]
  },
  {
   "cell_type": "code",
   "execution_count": 47,
   "metadata": {},
   "outputs": [],
   "source": [
    "def t_formula_GT(t):\n",
    "    r'>'\n",
    "    write_operator('&gt')"
   ]
  },
  {
   "cell_type": "code",
   "execution_count": 48,
   "metadata": {},
   "outputs": [],
   "source": [
    "def t_formula_LEQ(t):\n",
    "    r'\\\\leq'\n",
    "    write_leq()"
   ]
  },
  {
   "cell_type": "code",
   "execution_count": 49,
   "metadata": {},
   "outputs": [],
   "source": [
    "def t_formula_GEQ(t):\n",
    "    r'\\\\geq'\n",
    "    write_geq()"
   ]
  },
  {
   "cell_type": "markdown",
   "metadata": {},
   "source": [
    "def t_formula_OPERATOR(t):\n",
    "    r'[.,()+=-]'\n",
    "    write_operator()"
   ]
  },
  {
   "cell_type": "code",
   "execution_count": 50,
   "metadata": {},
   "outputs": [],
   "source": [
    "def t_formula_OPERATOR(t):\n",
    "    r'[.,()+=-]'\n",
    "    write_operator(t.value)"
   ]
  },
  {
   "cell_type": "code",
   "execution_count": 51,
   "metadata": {},
   "outputs": [],
   "source": [
    "def t_formula_PI(t):\n",
    "    r'\\\\pi'\n",
    "    write_pi()"
   ]
  },
  {
   "cell_type": "code",
   "execution_count": 52,
   "metadata": {},
   "outputs": [],
   "source": [
    "def t_formula_WS(t):\n",
    "    r'[ \\t]'\n",
    "    pass"
   ]
  },
  {
   "cell_type": "code",
   "execution_count": 53,
   "metadata": {},
   "outputs": [],
   "source": [
    "def t_formula_ANY(t):\n",
    "    r'.|\\n'\n",
    "    write_any(t.value)"
   ]
  },
  {
   "cell_type": "markdown",
   "metadata": {},
   "source": [
    "... lots of token definitions here ..."
   ]
  },
  {
   "cell_type": "code",
   "execution_count": 54,
   "metadata": {},
   "outputs": [],
   "source": [
    "def t_formula_error(t):\n",
    "    print(f\"Illegal character in state formula: {t.value[0]}\")\n",
    "    t.lexer.skip(1)"
   ]
  },
  {
   "cell_type": "markdown",
   "metadata": {},
   "source": [
    "The line below is necessary to trick `ply.lex` into assuming this program is written in an ordinary python file instead of a *Jupyter notebook*."
   ]
  },
  {
   "cell_type": "code",
   "execution_count": 55,
   "metadata": {},
   "outputs": [],
   "source": [
    "__file__ = 'main'"
   ]
  },
  {
   "cell_type": "markdown",
   "metadata": {},
   "source": [
    "The line below generates the scanner."
   ]
  },
  {
   "cell_type": "code",
   "execution_count": 56,
   "metadata": {},
   "outputs": [
    {
     "name": "stderr",
     "output_type": "stream",
     "text": [
      "lex: tokens   = ['HEAD', 'BEGIN_DOCUMENT', 'END_DOCUMENT', 'DOLLAR_DOLLAR', 'DOLLAR', 'SUM_LIMITS', 'SQRT', 'FRAC', 'VARIABLE_HAT', 'CB_HAT_OB', 'CB', 'VARIABLE', 'NUMBER', 'CDOT', 'STAR', 'LT', 'GT', 'LEQ', 'GEQ', 'OPERATOR', 'PI', 'ANY', 'WS']\n",
      "lex: literals = ''\n",
      "lex: states   = {'INITIAL': 'inclusive', 'formula': 'exclusive'}\n",
      "lex: Adding rule t_HEAD -> '\\\\documentclass\\{article\\}' (state 'INITIAL')\n",
      "lex: Adding rule t_BEGIN_DOCUMENT -> '\\\\begin\\{document\\}' (state 'INITIAL')\n",
      "lex: Adding rule t_END_DOCUMENT -> '\\\\end\\{document\\}' (state 'INITIAL')\n",
      "lex: Adding rule t_DOLLAR_DOLLAR -> '\\$\\$' (state 'INITIAL')\n",
      "lex: Adding rule t_DOLLAR -> '\\$' (state 'INITIAL')\n",
      "lex: Adding rule t_WS -> '[ \\t]' (state 'INITIAL')\n",
      "lex: Adding rule t_ANY -> '.|\\n' (state 'INITIAL')\n",
      "lex: Adding rule t_formula_DOLLAR_DOLLAR -> '\\$\\$' (state 'formula')\n",
      "lex: Adding rule t_formula_DOLLAR -> '\\$' (state 'formula')\n",
      "lex: Adding rule t_formula_SUM_LIMITS -> '\\\\sum\\\\limits_\\{' (state 'formula')\n",
      "lex: Adding rule t_formula_SQRT -> '\\\\sqrt\\{' (state 'formula')\n",
      "lex: Adding rule t_formula_FRAC -> '\\\\frac\\{' (state 'formula')\n",
      "lex: Adding rule t_formula_VARIABLE_HAT -> '[a-zA-Z]+\\^\\{' (state 'formula')\n",
      "lex: Adding rule t_formula_CB_HAT_OB -> '\\}\\^\\{|\\}\\{' (state 'formula')\n",
      "lex: Adding rule t_formula_CB -> '\\}' (state 'formula')\n",
      "lex: Adding rule t_formula_VARIABLE -> '[a-zA-Z]+' (state 'formula')\n",
      "lex: Adding rule t_formula_NUMBER -> '0|[1-9][0-9]*' (state 'formula')\n",
      "lex: Adding rule t_formula_CDOT -> '\\\\cdot' (state 'formula')\n",
      "lex: Adding rule t_formula_STAR -> '\\*' (state 'formula')\n",
      "lex: Adding rule t_formula_LT -> '<' (state 'formula')\n",
      "lex: Adding rule t_formula_GT -> '>' (state 'formula')\n",
      "lex: Adding rule t_formula_LEQ -> '\\\\leq' (state 'formula')\n",
      "lex: Adding rule t_formula_GEQ -> '\\\\geq' (state 'formula')\n",
      "lex: Adding rule t_formula_OPERATOR -> '[.,()+=-]' (state 'formula')\n",
      "lex: Adding rule t_formula_PI -> '\\\\pi' (state 'formula')\n",
      "lex: Adding rule t_formula_WS -> '[ \\t]' (state 'formula')\n",
      "lex: Adding rule t_formula_ANY -> '.|\\n' (state 'formula')\n",
      "lex: ==== MASTER REGEXS FOLLOW ====\n",
      "lex: state 'INITIAL' : regex[0] = '(?P<t_HEAD>\\\\documentclass\\{article\\})|(?P<t_BEGIN_DOCUMENT>\\\\begin\\{document\\})|(?P<t_END_DOCUMENT>\\\\end\\{document\\})|(?P<t_DOLLAR_DOLLAR>\\$\\$)|(?P<t_DOLLAR>\\$)|(?P<t_WS>[ \\t])|(?P<t_ANY>.|\\n)'\n",
      "lex: state 'formula' : regex[0] = '(?P<t_formula_DOLLAR_DOLLAR>\\$\\$)|(?P<t_formula_DOLLAR>\\$)|(?P<t_formula_SUM_LIMITS>\\\\sum\\\\limits_\\{)|(?P<t_formula_SQRT>\\\\sqrt\\{)|(?P<t_formula_FRAC>\\\\frac\\{)|(?P<t_formula_VARIABLE_HAT>[a-zA-Z]+\\^\\{)|(?P<t_formula_CB_HAT_OB>\\}\\^\\{|\\}\\{)|(?P<t_formula_CB>\\})|(?P<t_formula_VARIABLE>[a-zA-Z]+)|(?P<t_formula_NUMBER>0|[1-9][0-9]*)|(?P<t_formula_CDOT>\\\\cdot)|(?P<t_formula_STAR>\\*)|(?P<t_formula_LT><)|(?P<t_formula_GT>>)|(?P<t_formula_LEQ>\\\\leq)|(?P<t_formula_GEQ>\\\\geq)|(?P<t_formula_OPERATOR>[.,()+=-])|(?P<t_formula_PI>\\\\pi)|(?P<t_formula_WS>[ \\t])|(?P<t_formula_ANY>.|\\n)'\n",
      "WARNING: No t_error rule is defined\n"
     ]
    }
   ],
   "source": [
    "lexer = lex.lex(debug=True)"
   ]
  },
  {
   "cell_type": "markdown",
   "metadata": {},
   "source": [
    "Next, we feed our input string into the generated scanner."
   ]
  },
  {
   "cell_type": "code",
   "execution_count": 57,
   "metadata": {},
   "outputs": [],
   "source": [
    "lexer.input(data)"
   ]
  },
  {
   "cell_type": "markdown",
   "metadata": {},
   "source": [
    "In order to scan the data that we provided in the last line, we iterate over all tokens generated by our scanner."
   ]
  },
  {
   "cell_type": "code",
   "execution_count": 58,
   "metadata": {},
   "outputs": [],
   "source": [
    "def scan(lexer):\n",
    "    for t in lexer:\n",
    "        pass"
   ]
  },
  {
   "cell_type": "code",
   "execution_count": 59,
   "metadata": {},
   "outputs": [],
   "source": [
    "scan(lexer)"
   ]
  },
  {
   "cell_type": "code",
   "execution_count": 60,
   "metadata": {},
   "outputs": [],
   "source": [
    "outfile.close()"
   ]
  },
  {
   "cell_type": "code",
   "execution_count": 61,
   "metadata": {},
   "outputs": [],
   "source": [
    "!open 'example.html'"
   ]
  },
  {
   "cell_type": "code",
   "execution_count": null,
   "metadata": {},
   "outputs": [],
   "source": []
  }
 ],
 "metadata": {
  "@webio": {
   "lastCommId": null,
   "lastKernelId": null
  },
  "kernelspec": {
   "display_name": "Python 3 (ipykernel)",
   "language": "python",
   "name": "python3"
  },
  "language_info": {
   "codemirror_mode": {
    "name": "ipython",
    "version": 3
   },
   "file_extension": ".py",
   "mimetype": "text/x-python",
   "name": "python",
   "nbconvert_exporter": "python",
   "pygments_lexer": "ipython3",
   "version": "3.13.7"
  },
  "varInspector": {
   "cols": {
    "lenName": 16,
    "lenType": 16,
    "lenVar": 40
   },
   "kernels_config": {
    "python": {
     "delete_cmd_postfix": "",
     "delete_cmd_prefix": "del ",
     "library": "var_list.py",
     "varRefreshCmd": "print(var_dic_list())"
    },
    "r": {
     "delete_cmd_postfix": ") ",
     "delete_cmd_prefix": "rm(",
     "library": "var_list.r",
     "varRefreshCmd": "cat(var_dic_list()) "
    }
   },
   "types_to_exclude": [
    "module",
    "function",
    "builtin_function_or_method",
    "instance",
    "_Feature"
   ],
   "window_display": false
  }
 },
 "nbformat": 4,
 "nbformat_minor": 4
}
