{
 "cells": [
  {
   "cell_type": "code",
   "execution_count": null,
   "metadata": {},
   "outputs": [],
   "source": [
    "from IPython.display import HTML\n",
    "HTML(open('../style.css', 'r').read())"
   ]
  },
  {
   "cell_type": "code",
   "execution_count": null,
   "metadata": {},
   "outputs": [],
   "source": [
    "%load_ext nb_mypy"
   ]
  },
  {
   "cell_type": "code",
   "execution_count": null,
   "metadata": {},
   "outputs": [],
   "source": [
    "from typing import TypeVar\n",
    "from typing import Literal"
   ]
  },
  {
   "cell_type": "code",
   "execution_count": null,
   "metadata": {},
   "outputs": [],
   "source": [
    "type BinaryOp = Literal['⋅', '+']\n",
    "type UnaryOp  = Literal['*']"
   ]
  },
  {
   "cell_type": "code",
   "execution_count": null,
   "metadata": {},
   "outputs": [],
   "source": [
    "Char     = str\n",
    "RegExp   = TypeVar('RegExp')\n",
    "RegExp   = int | Char | tuple[UnaryOp, RegExp] | tuple[RegExp, BinaryOp, RegExp]\n",
    "State    = TypeVar('State')\n",
    "TransRel = dict[tuple[State, Char], State]\n",
    "DFA      = tuple[set[State], set[Char], TransRel, State, set[State]]"
   ]
  },
  {
   "cell_type": "markdown",
   "metadata": {},
   "source": [
    "# Converting a Deterministic <span style=\"font-variant:small-caps;\">Dfa</span> into a Regular Expression"
   ]
  },
  {
   "cell_type": "markdown",
   "metadata": {},
   "source": [
    "The function `regexp_sum` takes a set $S = \\{ r_1, \\cdots, r_n \\}$ of regular expressions\n",
    "as its argument.  It returns the regular expression \n",
    "$$ r_1 + \\cdots + r_n. $$\n",
    "The regular expression will be represented as a nested tuple that uses the operators `+` (for alternatives), `⋅` (for concatenations), and `*` (for repetitions).\n",
    "\n",
    "Instead of a set, in the recursive invocation the function is called with a  list.  "
   ]
  },
  {
   "cell_type": "code",
   "execution_count": null,
   "metadata": {},
   "outputs": [],
   "source": [
    "def regexp_sum(S: set[RegExp] | list[RegExp]) -> RegExp:\n",
    "    n = len(S)\n",
    "    match n:\n",
    "        case 0:\n",
    "            return 0\n",
    "        case 1:\n",
    "            r, = S\n",
    "            return r\n",
    "        case _:\n",
    "            r, *Rs = S\n",
    "            return (r, '+', regexp_sum(Rs))"
   ]
  },
  {
   "cell_type": "markdown",
   "metadata": {},
   "source": [
    "The function `rpq` assumes there is some <span style=\"font-variant:small-caps;\">Dfa</span>\n",
    "$$ F = \\langle \\texttt{States}, \\Sigma, \\delta, \\texttt{q0}, \\texttt{Accepting} \\rangle $$\n",
    "given and takes five arguments:\n",
    "- `p1` and `p2` are states of the <span style=\"font-variant:small-caps;\">Dfa</span> $F$,\n",
    "- $\\Sigma$ is the alphabet of the <span style=\"font-variant:small-caps;\">Dfa</span>,\n",
    "- $\\delta$ is the transition function of the <span style=\"font-variant:small-caps;\">Dfa</span> $F$, and\n",
    "- `Allowed` is a subset of the set `States`.  On recursive calls, `Allowed` is a list of states.\n",
    "\n",
    "The function `rpq` computes a regular expression that describes those strings that take the \n",
    "<span style=\"font-variant:small-caps;\">Dfa</span> $F$ from the state `p1` to state `p2`.\n",
    "When $F$ switches states from `p1` to `p2` only states in the set `Allowed` may be visited in-between the states `p1` and `p2`.\n",
    "\n",
    "The function is defined by recursion on the set `Allowed`.  There are two cases\n",
    "- $\\texttt{Allowed} = \\{\\}$.  \n",
    "  Define `AllChars`as the set of all characters that when read by $F$ in the state `p1` cause $F$ to enter the state `p2`:\n",
    "  $$ \\texttt{AllChars} = \\{ c \\in \\Sigma \\mid \\delta(p_1, c) = p_2 \\} $$\n",
    "  Then we need a further case distinction:\n",
    "  - $p_1 = p_2$: In this case we have:\n",
    "    $$ \\texttt{rpq}(p_1, p_2, \\{\\}) := \\sum\\limits_{c\\in\\texttt{AllChars}} c \\quad + \\varepsilon$$\n",
    "    If $\\texttt{AllChars} = \\{\\}$ the sum $\\sum\\limits_{c\\in\\texttt{AllChars}} c$ is to be interpreted as the\n",
    "    regular expression $\\emptyset$ that denotes the empty language. \n",
    "    \n",
    "    Otherwise, if $\\texttt{AllChars} = \\{c_1,\\cdots,c_n\\}$ we have\n",
    "    $\\sum\\limits_{c\\in\\texttt{AllChars}} c \\quad = c_1 + \\cdots + c_n$.\n",
    "  - $p_1 \\not= p_2$: In this case we have:\n",
    "    $$ \\texttt{rpq}(p_1, p_2, \\{\\}) := \\sum\\limits_{c\\in\\texttt{AllChars}} c \\quad$$\n",
    "- $\\texttt{Allowed} = \\{ q \\} \\cup \\texttt{RestAllowed}$.  In this case we recursively define the following variables:\n",
    "  1. $\\texttt{rp1p2} := \\texttt{rpq}(p_1, p_2, \\Sigma, \\delta, \\texttt{RestAllowed})$,\n",
    "  2. $\\texttt{rp1q } := \\texttt{rpq}(p_1, q, \\Sigma, \\delta, \\texttt{RestAllowed})$,\n",
    "  3. $\\texttt{rqq }\\texttt{ } := \\texttt{rpq}(q, q, \\Sigma, \\delta, \\texttt{RestAllowed})$,\n",
    "  4. $\\texttt{rqp2 } := \\texttt{rpq}(q, p_2, \\Sigma, \\delta, \\texttt{RestAllowed})$.\n",
    "\n",
    "  Then we can define:\n",
    "  $$ \\texttt{rpq}(p_1, p_2, \\texttt{Allowed}) := \\texttt{rp1p2} + \\texttt{rp1q} \\cdot \\texttt{rqq}^* \\cdot \\texttt{rqp2} $$\n",
    "  This formula can be understood as follows:  If a string $w$ is read in state $p_1$ and reading this string takes the \n",
    "  <span style=\"font-variant:small-caps;\">Dfa</span> $F$ from the state $p_1$ to the state $p_2$ while only visiting states from the set \n",
    "  `Allowed` in-between, then there are two cases:\n",
    "  - Reading $w$ does not visit the state $q$ in-between.  Hence the string $w$ can be described by the regular expression\n",
    "    `rp1p2`.\n",
    "  - The string $w$ can be written as $w = t u_1 \\cdots u_n v$ where:\n",
    "    - reading $t$ in the state $p_1$ takes the <span style=\"font-variant:small-caps;\">Dfa</span> $F$ into the state $q$,\n",
    "    - for all $i \\in \\{1,\\cdots,n\\}$ reading $v_i$ in the state $q$ takes the <span style=\"font-variant:small-caps;\">Dfa</span> $F$ from $q$ to $q$, and\n",
    "    - reading $v$ in the state $q$ takes the <span style=\"font-variant:small-caps;\">Dfa</span> $F$ into the state $p_2$."
   ]
  },
  {
   "cell_type": "code",
   "execution_count": null,
   "metadata": {},
   "outputs": [],
   "source": [
    "def rpq(p1: State, p2: State, Σ: set[Char], 𝛿: TransRel, Allowed: list[State] | set[State]) -> RegExp:\n",
    "    if len(Allowed) == 0:\n",
    "        AllChars: set[RegExp] = { c for c in Σ if 𝛿.get((p1, c)) == p2 }\n",
    "        r = regexp_sum(AllChars)\n",
    "        if p1 == p2:    \n",
    "            return ('𝜀', '+', r)\n",
    "        else:\n",
    "             return r\n",
    "    else:\n",
    "        q, *RestAllowed = Allowed\n",
    "        rp1p2 = rpq(p1, p2, Σ, 𝛿, RestAllowed)\n",
    "        rp1q  = rpq(p1,  q, Σ, 𝛿, RestAllowed)\n",
    "        rqq   = rpq( q,  q, Σ, 𝛿, RestAllowed)\n",
    "        rqp2  = rpq( q, p2, Σ, 𝛿, RestAllowed)\n",
    "        return (rp1p2, '+', ((rp1q, '⋅', (rqq, '*')), '⋅', rqp2))"
   ]
  },
  {
   "cell_type": "markdown",
   "metadata": {},
   "source": [
    "The function `dfa_2_regexp` takes a deterministic <span style=\"font-variant:small-caps;\">Dfa</span> $F$ and computes a regular expression $r$ that describes the same language as $F$, i.e. we have\n",
    "$$ L(A) = L(r). $$"
   ]
  },
  {
   "cell_type": "code",
   "execution_count": null,
   "metadata": {},
   "outputs": [],
   "source": [
    "def dfa_2_regexp(F: DFA) -> RegExp:\n",
    "    States, Σ, 𝛿, q0, Accepting = F\n",
    "    r = regexp_sum({ rpq(q0, p, Σ, 𝛿, States) for p in Accepting })\n",
    "    return r"
   ]
  },
  {
   "cell_type": "markdown",
   "metadata": {},
   "source": [
    "The notebook `06-Test-DFA-2-RegExp.ipynb` provides a test for the function `dfa_2_regexp`."
   ]
  },
  {
   "cell_type": "code",
   "execution_count": null,
   "metadata": {},
   "outputs": [],
   "source": []
  }
 ],
 "metadata": {
  "kernelspec": {
   "display_name": "Python 3 (ipykernel)",
   "language": "python",
   "name": "python3"
  },
  "language_info": {
   "codemirror_mode": {
    "name": "ipython",
    "version": 3
   },
   "file_extension": ".py",
   "mimetype": "text/x-python",
   "name": "python",
   "nbconvert_exporter": "python",
   "pygments_lexer": "ipython3",
   "version": "3.13.7"
  },
  "varInspector": {
   "cols": {
    "lenName": 16,
    "lenType": 16,
    "lenVar": 40
   },
   "kernels_config": {
    "python": {
     "delete_cmd_postfix": "",
     "delete_cmd_prefix": "del ",
     "library": "var_list.py",
     "varRefreshCmd": "print(var_dic_list())"
    },
    "r": {
     "delete_cmd_postfix": ") ",
     "delete_cmd_prefix": "rm(",
     "library": "var_list.r",
     "varRefreshCmd": "cat(var_dic_list()) "
    }
   },
   "types_to_exclude": [
    "module",
    "function",
    "builtin_function_or_method",
    "instance",
    "_Feature"
   ],
   "window_display": false
  }
 },
 "nbformat": 4,
 "nbformat_minor": 4
}
