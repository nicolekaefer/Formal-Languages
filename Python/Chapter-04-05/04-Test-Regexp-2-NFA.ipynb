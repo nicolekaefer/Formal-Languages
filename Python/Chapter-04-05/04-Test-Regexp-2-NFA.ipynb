{
 "cells": [
  {
   "cell_type": "code",
   "execution_count": 1,
   "metadata": {},
   "outputs": [
    {
     "data": {
      "text/html": [
       "<link href='http://fonts.googleapis.com/css?family=Alegreya+Sans:100,300,400,500,700,800,900,100italic,300italic,400italic,500italic,700italic,800italic,900italic' rel='stylesheet' type='text/css'>\n",
       "<link href='http://fonts.googleapis.com/css?family=Arvo:400,700,400italic' rel='stylesheet' type='text/css'>\n",
       "<link href='http://fonts.googleapis.com/css?family=PT+Mono' rel='stylesheet' type='text/css'>\n",
       "<link href='http://fonts.googleapis.com/css?family=Shadows+Into+Light' rel='stylesheet' type='text/css'>\n",
       "<link href='http://fonts.googleapis.com/css?family=Philosopher:400,700,400italic,700italic' rel='stylesheet' type='text/css'>\n",
       "<link href=\"http://fonts.googleapis.com/css?family=Sacramento\" rel=\"stylesheet\" type=\"text/css\">\n",
       "\n",
       "<style>\n",
       "\n",
       "@font-face {\n",
       "    font-family: \"Computer Modern\";\n",
       "    src: url('http://mirrors.ctan.org/fonts/cm-unicode/fonts/otf/cmunss.otf');\n",
       "}\n",
       "\n",
       ".container { width: 100% }\n",
       "\n",
       "/* Formatting for header cells */\n",
       ".text_cell_render h1 {\n",
       "    font-family: 'Philosopher', sans-serif;\n",
       "    font-weight: 400;\n",
       "    font-size: 2.2em;\n",
       "    line-height: 100%;\n",
       "    color: rgb(0, 80, 120);\n",
       "    margin-bottom: 0.1em;\n",
       "    margin-top: 0.1em;\n",
       "    display: block;\n",
       "}\t\n",
       ".text_cell_render h2 {\n",
       "    font-family: 'Philosopher', serif;\n",
       "    font-weight: 400;\n",
       "    font-size: 1.9em;\n",
       "    line-height: 100%;\n",
       "    color: rgb(200,100,0);\n",
       "    margin-bottom: 0.1em;\n",
       "    margin-top: 0.1em;\n",
       "    display: block;\n",
       "}\t\n",
       "\n",
       ".text_cell_render h3 {\n",
       "    font-family: 'Philosopher', serif;\n",
       "    margin-top:12px;\n",
       "    margin-bottom: 3px;\n",
       "    font-style: italic;\n",
       "    color: rgb(94,127,192);\n",
       "}\n",
       "\n",
       ".text_cell_render h4 {\n",
       "    font-family: 'Philosopher', serif;\n",
       "}\n",
       "\n",
       ".text_cell_render h5 {\n",
       "    font-family: 'Alegreya Sans', sans-serif;\n",
       "    font-weight: 300;\n",
       "    font-size: 16pt;\n",
       "    color: grey;\n",
       "    font-style: italic;\n",
       "    margin-bottom: .1em;\n",
       "    margin-top: 0.1em;\n",
       "    display: block;\n",
       "}\n",
       "\n",
       ".text_cell_render h6 {\n",
       "    font-family: 'PT Mono', sans-serif;\n",
       "    font-weight: 300;\n",
       "    font-size: 10pt;\n",
       "    color: grey;\n",
       "    margin-bottom: 1px;\n",
       "    margin-top: 1px;\n",
       "}\n",
       "\n",
       ".text_cell_render em {\n",
       "    font-family: 'Philosopher', sans-serif;\n",
       "    color:        blue;\n",
       "    background-color: rgb(255,220,180);\n",
       "    font-size:    110%;\n",
       "    margin-left:   2px;\n",
       "    margin-right:  2px;\n",
       "    font-weight:   100;\n",
       "}\n",
       "\n",
       ".text_cell_render b {\n",
       "    color:            rgb(255,195,195);\n",
       "    background-color: rgb(0,0,0);\n",
       "    font-size:    110%;\n",
       "    margin-left:   2px;\n",
       "    margin-right:  2px;\n",
       "    font-weight:   650;\n",
       "}\n",
       "\n",
       ".text_cell_render u {\n",
       "    color:            blue;\n",
       "    font-size:    110%;\n",
       "    margin-left:   2px;\n",
       "    margin-right:  2px;\n",
       "    font-weight:   650;\n",
       "}\n",
       "\n",
       ".text_cell_render tt {\n",
       "    font-size:    120%;\n",
       "    margin-left:   2px;\n",
       "    margin-right:  2px;\n",
       "    font-weight:   150;\n",
       "}\n",
       "\n",
       ".Codemirror {\n",
       "    font-family: \"PT Mono\";\n",
       "    font-size: 100%;\n",
       "}\n",
       "\n",
       "#fancy {\n",
       "    font-family:      Georgia;\n",
       "    position:         relative;\n",
       "    float:            left;\n",
       "    border:           2px solid red;\n",
       "    width:            600px;\n",
       "    padding-left:     20px;\n",
       "    padding-right:    20px;\n",
       "    padding-top:      10px;\n",
       "    font-family:      'Sacramento', cursive;\n",
       "    font-size:        26px;\n",
       "    background-color: #F4EBF3;\n",
       "    border-radius:    15px;\n",
       "}\n",
       "\n",
       "</Style>\n",
       "\n"
      ],
      "text/plain": [
       "<IPython.core.display.HTML object>"
      ]
     },
     "execution_count": 1,
     "metadata": {},
     "output_type": "execute_result"
    }
   ],
   "source": [
    "from IPython.display import HTML\n",
    "HTML(open('../style.css', 'r').read())"
   ]
  },
  {
   "cell_type": "markdown",
   "metadata": {},
   "source": [
    "This notebook contains a test for the function `toNFA` implemented in the notebook `03-Regexp-2-NFA.ipynb`.\n",
    "In order to write regular expressions conveniently, we need the parser implemented in `RegExp-Parser.ipynb`."
   ]
  },
  {
   "cell_type": "code",
   "execution_count": 2,
   "metadata": {},
   "outputs": [
    {
     "name": "stderr",
     "output_type": "stream",
     "text": [
      "Version 1.0.6\n"
     ]
    },
    {
     "name": "stdout",
     "output_type": "stream",
     "text": [
      "The nb_mypy extension is already loaded. To reload it, use:\n",
      "  %reload_ext nb_mypy\n"
     ]
    }
   ],
   "source": [
    "%run 03-Regexp-2-NFA.ipynb\n",
    "%run RegExp-Parser.ipynb"
   ]
  },
  {
   "cell_type": "markdown",
   "metadata": {},
   "source": [
    "The `nb_mypy` extension does not work with notebooks that are imported via the `%run`magic.  \n",
    "Therefore, we have to switch the extension off in this notebook."
   ]
  },
  {
   "cell_type": "code",
   "execution_count": 3,
   "metadata": {},
   "outputs": [],
   "source": [
    "%unload_ext nb_mypy"
   ]
  },
  {
   "cell_type": "markdown",
   "metadata": {},
   "source": [
    "If the regular expression `r` that is defined below has been written in the style of the lecture notes, it would read:\n",
    "$$(\\texttt{a}\\cdot\\texttt{b} + \\texttt{b}\\cdot\\texttt{a})^*$$"
   ]
  },
  {
   "cell_type": "code",
   "execution_count": 4,
   "metadata": {},
   "outputs": [
    {
     "data": {
      "text/plain": [
       "((('a', '⋅', 'b'), '+', ('b', '⋅', 'a')), '*')"
      ]
     },
     "execution_count": 4,
     "metadata": {},
     "output_type": "execute_result"
    }
   ],
   "source": [
    "r = parse('(ab+ba)*')\n",
    "r"
   ]
  },
  {
   "cell_type": "code",
   "execution_count": 5,
   "metadata": {},
   "outputs": [],
   "source": [
    "converter = RegExp2NFA({'a', 'b'}) "
   ]
  },
  {
   "cell_type": "markdown",
   "metadata": {},
   "source": [
    "We use `converter` to create an <span style=\"font-variant:small-caps;\">NFA</span>  that accepts the language \n",
    "described by the regular expression `r`."
   ]
  },
  {
   "cell_type": "code",
   "execution_count": 6,
   "metadata": {},
   "outputs": [
    {
     "data": {
      "text/plain": [
       "({1, 2, 3, 4, 5, 6, 7, 8, 9, 10, 11, 12},\n",
       " {'a', 'b'},\n",
       " {(1, 'a'): {2},\n",
       "  (3, 'b'): {4},\n",
       "  (2, '𝜀'): {3},\n",
       "  (5, 'b'): {6},\n",
       "  (7, 'a'): {8},\n",
       "  (6, '𝜀'): {7},\n",
       "  (9, '𝜀'): {1, 5},\n",
       "  (4, '𝜀'): {10},\n",
       "  (8, '𝜀'): {10},\n",
       "  (11, '𝜀'): {9, 12},\n",
       "  (10, '𝜀'): {9, 12}},\n",
       " 11,\n",
       " {12})"
      ]
     },
     "execution_count": 6,
     "metadata": {},
     "output_type": "execute_result"
    }
   ],
   "source": [
    "nfa = converter.toNFA(r) \n",
    "nfa"
   ]
  },
  {
   "cell_type": "code",
   "execution_count": 7,
   "metadata": {},
   "outputs": [],
   "source": [
    "%run FSM-2-Dot.ipynb"
   ]
  },
  {
   "cell_type": "code",
   "execution_count": 8,
   "metadata": {},
   "outputs": [
    {
     "data": {
      "image/svg+xml": [
       "<?xml version=\"1.0\" encoding=\"UTF-8\" standalone=\"no\"?>\n",
       "<!DOCTYPE svg PUBLIC \"-//W3C//DTD SVG 1.1//EN\"\n",
       " \"http://www.w3.org/Graphics/SVG/1.1/DTD/svg11.dtd\">\n",
       "<!-- Generated by graphviz version 13.1.2 (20250809.0930)\n",
       " -->\n",
       "<!-- Title: Non&#45;Deterministic FSM Pages: 1 -->\n",
       "<svg width=\"860pt\" height=\"166pt\"\n",
       " viewBox=\"0.00 0.00 860.00 166.00\" xmlns=\"http://www.w3.org/2000/svg\" xmlns:xlink=\"http://www.w3.org/1999/xlink\">\n",
       "<g id=\"graph0\" class=\"graph\" transform=\"scale(1 1) rotate(0) translate(4 162)\">\n",
       "<title>Non&#45;Deterministic FSM</title>\n",
       "<polygon fill=\"white\" stroke=\"none\" points=\"-4,4 -4,-162 855.7,-162 855.7,4 -4,4\"/>\n",
       "<!-- 0 -->\n",
       "<g id=\"node1\" class=\"node\">\n",
       "<title>0</title>\n",
       "<ellipse fill=\"blue\" stroke=\"blue\" cx=\"3.6\" cy=\"-18\" rx=\"3.6\" ry=\"3.6\"/>\n",
       "</g>\n",
       "<!-- 11 -->\n",
       "<g id=\"node2\" class=\"node\">\n",
       "<title>11</title>\n",
       "<ellipse fill=\"none\" stroke=\"black\" cx=\"71.2\" cy=\"-18\" rx=\"27\" ry=\"18\"/>\n",
       "<text xml:space=\"preserve\" text-anchor=\"middle\" x=\"71.2\" y=\"-13.32\" font-family=\"Times,serif\" font-size=\"14.00\">11</text>\n",
       "</g>\n",
       "<!-- 0&#45;&gt;11 -->\n",
       "<g id=\"edge1\" class=\"edge\">\n",
       "<title>0&#45;&gt;11</title>\n",
       "<path fill=\"none\" stroke=\"black\" d=\"M7.42,-18C12.07,-18 21.87,-18 32.38,-18\"/>\n",
       "<polygon fill=\"black\" stroke=\"black\" points=\"32.34,-21.5 42.34,-18 32.34,-14.5 32.34,-21.5\"/>\n",
       "</g>\n",
       "<!-- 9 -->\n",
       "<g id=\"node11\" class=\"node\">\n",
       "<title>9</title>\n",
       "<ellipse fill=\"none\" stroke=\"black\" cx=\"180.7\" cy=\"-57\" rx=\"27\" ry=\"18\"/>\n",
       "<text xml:space=\"preserve\" text-anchor=\"middle\" x=\"180.7\" y=\"-52.33\" font-family=\"Times,serif\" font-size=\"14.00\">9</text>\n",
       "</g>\n",
       "<!-- 11&#45;&gt;9 -->\n",
       "<g id=\"edge10\" class=\"edge\">\n",
       "<title>11&#45;&gt;9</title>\n",
       "<path fill=\"none\" stroke=\"black\" d=\"M95.53,-26.46C110.18,-31.78 129.32,-38.72 145.65,-44.65\"/>\n",
       "<polygon fill=\"black\" stroke=\"black\" points=\"144.4,-47.92 155,-48.04 146.79,-41.34 144.4,-47.92\"/>\n",
       "<text xml:space=\"preserve\" text-anchor=\"middle\" x=\"125.95\" y=\"-43.44\" font-family=\"Times,serif\" font-size=\"14.00\">𝜀</text>\n",
       "</g>\n",
       "<!-- 12 -->\n",
       "<g id=\"node13\" class=\"node\">\n",
       "<title>12</title>\n",
       "<ellipse fill=\"none\" stroke=\"black\" cx=\"820.7\" cy=\"-30\" rx=\"27\" ry=\"18\"/>\n",
       "<ellipse fill=\"none\" stroke=\"black\" cx=\"820.7\" cy=\"-30\" rx=\"31\" ry=\"22\"/>\n",
       "<text xml:space=\"preserve\" text-anchor=\"middle\" x=\"820.7\" y=\"-25.32\" font-family=\"Times,serif\" font-size=\"14.00\">12</text>\n",
       "</g>\n",
       "<!-- 11&#45;&gt;12 -->\n",
       "<g id=\"edge11\" class=\"edge\">\n",
       "<title>11&#45;&gt;12</title>\n",
       "<path fill=\"none\" stroke=\"black\" d=\"M98.37,-18.42C209.35,-20.2 641.7,-27.14 778.18,-29.33\"/>\n",
       "<polygon fill=\"black\" stroke=\"black\" points=\"777.77,-32.83 787.83,-29.49 777.89,-25.83 777.77,-32.83\"/>\n",
       "<text xml:space=\"preserve\" text-anchor=\"middle\" x=\"443.95\" y=\"-26.57\" font-family=\"Times,serif\" font-size=\"14.00\">𝜀</text>\n",
       "</g>\n",
       "<!-- 1 -->\n",
       "<g id=\"node3\" class=\"node\">\n",
       "<title>1</title>\n",
       "<ellipse fill=\"none\" stroke=\"black\" cx=\"290.2\" cy=\"-136\" rx=\"27\" ry=\"18\"/>\n",
       "<text xml:space=\"preserve\" text-anchor=\"middle\" x=\"290.2\" y=\"-131.32\" font-family=\"Times,serif\" font-size=\"14.00\">1</text>\n",
       "</g>\n",
       "<!-- 2 -->\n",
       "<g id=\"node4\" class=\"node\">\n",
       "<title>2</title>\n",
       "<ellipse fill=\"none\" stroke=\"black\" cx=\"389.2\" cy=\"-136\" rx=\"27\" ry=\"18\"/>\n",
       "<text xml:space=\"preserve\" text-anchor=\"middle\" x=\"389.2\" y=\"-131.32\" font-family=\"Times,serif\" font-size=\"14.00\">2</text>\n",
       "</g>\n",
       "<!-- 1&#45;&gt;2 -->\n",
       "<g id=\"edge12\" class=\"edge\">\n",
       "<title>1&#45;&gt;2</title>\n",
       "<path fill=\"none\" stroke=\"black\" d=\"M317.45,-136C327.69,-136 339.63,-136 350.75,-136\"/>\n",
       "<polygon fill=\"black\" stroke=\"black\" points=\"350.42,-139.5 360.42,-136 350.42,-132.5 350.42,-139.5\"/>\n",
       "<text xml:space=\"preserve\" text-anchor=\"middle\" x=\"339.7\" y=\"-139.95\" font-family=\"Times,serif\" font-size=\"14.00\">a</text>\n",
       "</g>\n",
       "<!-- 3 -->\n",
       "<g id=\"node5\" class=\"node\">\n",
       "<title>3</title>\n",
       "<ellipse fill=\"none\" stroke=\"black\" cx=\"498.7\" cy=\"-140\" rx=\"27\" ry=\"18\"/>\n",
       "<text xml:space=\"preserve\" text-anchor=\"middle\" x=\"498.7\" y=\"-135.32\" font-family=\"Times,serif\" font-size=\"14.00\">3</text>\n",
       "</g>\n",
       "<!-- 2&#45;&gt;3 -->\n",
       "<g id=\"edge2\" class=\"edge\">\n",
       "<title>2&#45;&gt;3</title>\n",
       "<path fill=\"none\" stroke=\"black\" d=\"M416.5,-136.98C429.64,-137.47 445.78,-138.07 460.2,-138.6\"/>\n",
       "<polygon fill=\"black\" stroke=\"black\" points=\"459.67,-142.09 469.79,-138.96 459.93,-135.09 459.67,-142.09\"/>\n",
       "<text xml:space=\"preserve\" text-anchor=\"middle\" x=\"443.95\" y=\"-140.81\" font-family=\"Times,serif\" font-size=\"14.00\">𝜀</text>\n",
       "</g>\n",
       "<!-- 4 -->\n",
       "<g id=\"node6\" class=\"node\">\n",
       "<title>4</title>\n",
       "<ellipse fill=\"none\" stroke=\"black\" cx=\"597.7\" cy=\"-140\" rx=\"27\" ry=\"18\"/>\n",
       "<text xml:space=\"preserve\" text-anchor=\"middle\" x=\"597.7\" y=\"-135.32\" font-family=\"Times,serif\" font-size=\"14.00\">4</text>\n",
       "</g>\n",
       "<!-- 3&#45;&gt;4 -->\n",
       "<g id=\"edge13\" class=\"edge\">\n",
       "<title>3&#45;&gt;4</title>\n",
       "<path fill=\"none\" stroke=\"black\" d=\"M525.95,-140C536.19,-140 548.13,-140 559.25,-140\"/>\n",
       "<polygon fill=\"black\" stroke=\"black\" points=\"558.92,-143.5 568.92,-140 558.92,-136.5 558.92,-143.5\"/>\n",
       "<text xml:space=\"preserve\" text-anchor=\"middle\" x=\"548.2\" y=\"-143.95\" font-family=\"Times,serif\" font-size=\"14.00\">b</text>\n",
       "</g>\n",
       "<!-- 10 -->\n",
       "<g id=\"node12\" class=\"node\">\n",
       "<title>10</title>\n",
       "<ellipse fill=\"none\" stroke=\"black\" cx=\"707.2\" cy=\"-59\" rx=\"27\" ry=\"18\"/>\n",
       "<text xml:space=\"preserve\" text-anchor=\"middle\" x=\"707.2\" y=\"-54.33\" font-family=\"Times,serif\" font-size=\"14.00\">10</text>\n",
       "</g>\n",
       "<!-- 4&#45;&gt;10 -->\n",
       "<g id=\"edge3\" class=\"edge\">\n",
       "<title>4&#45;&gt;10</title>\n",
       "<path fill=\"none\" stroke=\"black\" d=\"M617.28,-127.33C630.07,-118.49 647.37,-106.3 662.2,-95 668.42,-90.26 675.01,-85 681.14,-80\"/>\n",
       "<polygon fill=\"black\" stroke=\"black\" points=\"683.04,-82.97 688.53,-73.91 678.59,-77.57 683.04,-82.97\"/>\n",
       "<text xml:space=\"preserve\" text-anchor=\"middle\" x=\"652.45\" y=\"-111.44\" font-family=\"Times,serif\" font-size=\"14.00\">𝜀</text>\n",
       "</g>\n",
       "<!-- 5 -->\n",
       "<g id=\"node7\" class=\"node\">\n",
       "<title>5</title>\n",
       "<ellipse fill=\"none\" stroke=\"black\" cx=\"290.2\" cy=\"-82\" rx=\"27\" ry=\"18\"/>\n",
       "<text xml:space=\"preserve\" text-anchor=\"middle\" x=\"290.2\" y=\"-77.33\" font-family=\"Times,serif\" font-size=\"14.00\">5</text>\n",
       "</g>\n",
       "<!-- 6 -->\n",
       "<g id=\"node8\" class=\"node\">\n",
       "<title>6</title>\n",
       "<ellipse fill=\"none\" stroke=\"black\" cx=\"389.2\" cy=\"-82\" rx=\"27\" ry=\"18\"/>\n",
       "<text xml:space=\"preserve\" text-anchor=\"middle\" x=\"389.2\" y=\"-77.33\" font-family=\"Times,serif\" font-size=\"14.00\">6</text>\n",
       "</g>\n",
       "<!-- 5&#45;&gt;6 -->\n",
       "<g id=\"edge14\" class=\"edge\">\n",
       "<title>5&#45;&gt;6</title>\n",
       "<path fill=\"none\" stroke=\"black\" d=\"M317.45,-82C327.69,-82 339.63,-82 350.75,-82\"/>\n",
       "<polygon fill=\"black\" stroke=\"black\" points=\"350.42,-85.5 360.42,-82 350.42,-78.5 350.42,-85.5\"/>\n",
       "<text xml:space=\"preserve\" text-anchor=\"middle\" x=\"339.7\" y=\"-85.95\" font-family=\"Times,serif\" font-size=\"14.00\">b</text>\n",
       "</g>\n",
       "<!-- 7 -->\n",
       "<g id=\"node9\" class=\"node\">\n",
       "<title>7</title>\n",
       "<ellipse fill=\"none\" stroke=\"black\" cx=\"498.7\" cy=\"-86\" rx=\"27\" ry=\"18\"/>\n",
       "<text xml:space=\"preserve\" text-anchor=\"middle\" x=\"498.7\" y=\"-81.33\" font-family=\"Times,serif\" font-size=\"14.00\">7</text>\n",
       "</g>\n",
       "<!-- 6&#45;&gt;7 -->\n",
       "<g id=\"edge4\" class=\"edge\">\n",
       "<title>6&#45;&gt;7</title>\n",
       "<path fill=\"none\" stroke=\"black\" d=\"M416.5,-82.98C429.64,-83.47 445.78,-84.07 460.2,-84.6\"/>\n",
       "<polygon fill=\"black\" stroke=\"black\" points=\"459.67,-88.09 469.79,-84.96 459.93,-81.09 459.67,-88.09\"/>\n",
       "<text xml:space=\"preserve\" text-anchor=\"middle\" x=\"443.95\" y=\"-86.81\" font-family=\"Times,serif\" font-size=\"14.00\">𝜀</text>\n",
       "</g>\n",
       "<!-- 8 -->\n",
       "<g id=\"node10\" class=\"node\">\n",
       "<title>8</title>\n",
       "<ellipse fill=\"none\" stroke=\"black\" cx=\"597.7\" cy=\"-86\" rx=\"27\" ry=\"18\"/>\n",
       "<text xml:space=\"preserve\" text-anchor=\"middle\" x=\"597.7\" y=\"-81.33\" font-family=\"Times,serif\" font-size=\"14.00\">8</text>\n",
       "</g>\n",
       "<!-- 7&#45;&gt;8 -->\n",
       "<g id=\"edge15\" class=\"edge\">\n",
       "<title>7&#45;&gt;8</title>\n",
       "<path fill=\"none\" stroke=\"black\" d=\"M525.95,-86C536.19,-86 548.13,-86 559.25,-86\"/>\n",
       "<polygon fill=\"black\" stroke=\"black\" points=\"558.92,-89.5 568.92,-86 558.92,-82.5 558.92,-89.5\"/>\n",
       "<text xml:space=\"preserve\" text-anchor=\"middle\" x=\"548.2\" y=\"-89.95\" font-family=\"Times,serif\" font-size=\"14.00\">a</text>\n",
       "</g>\n",
       "<!-- 8&#45;&gt;10 -->\n",
       "<g id=\"edge5\" class=\"edge\">\n",
       "<title>8&#45;&gt;10</title>\n",
       "<path fill=\"none\" stroke=\"black\" d=\"M623.36,-79.81C637.43,-76.27 655.3,-71.78 670.84,-67.88\"/>\n",
       "<polygon fill=\"black\" stroke=\"black\" points=\"671.34,-71.36 680.18,-65.53 669.63,-64.58 671.34,-71.36\"/>\n",
       "<text xml:space=\"preserve\" text-anchor=\"middle\" x=\"652.45\" y=\"-77.37\" font-family=\"Times,serif\" font-size=\"14.00\">𝜀</text>\n",
       "</g>\n",
       "<!-- 9&#45;&gt;1 -->\n",
       "<g id=\"edge6\" class=\"edge\">\n",
       "<title>9&#45;&gt;1</title>\n",
       "<path fill=\"none\" stroke=\"black\" d=\"M198.71,-70.41C206.82,-76.73 216.7,-84.34 225.7,-91 237.29,-99.58 250.26,-108.83 261.43,-116.7\"/>\n",
       "<polygon fill=\"black\" stroke=\"black\" points=\"259.28,-119.46 269.48,-122.33 263.3,-113.73 259.28,-119.46\"/>\n",
       "<text xml:space=\"preserve\" text-anchor=\"middle\" x=\"235.45\" y=\"-107.29\" font-family=\"Times,serif\" font-size=\"14.00\">𝜀</text>\n",
       "</g>\n",
       "<!-- 9&#45;&gt;5 -->\n",
       "<g id=\"edge7\" class=\"edge\">\n",
       "<title>9&#45;&gt;5</title>\n",
       "<path fill=\"none\" stroke=\"black\" d=\"M206.63,-62.8C220.47,-66.02 237.93,-70.08 253.22,-73.63\"/>\n",
       "<polygon fill=\"black\" stroke=\"black\" points=\"252.4,-77.03 262.93,-75.89 253.98,-70.22 252.4,-77.03\"/>\n",
       "<text xml:space=\"preserve\" text-anchor=\"middle\" x=\"235.45\" y=\"-74.19\" font-family=\"Times,serif\" font-size=\"14.00\">𝜀</text>\n",
       "</g>\n",
       "<!-- 10&#45;&gt;9 -->\n",
       "<g id=\"edge8\" class=\"edge\">\n",
       "<title>10&#45;&gt;9</title>\n",
       "<path fill=\"none\" stroke=\"black\" d=\"M679.74,-58.37C611.01,-56.81 421.24,-53.06 263.2,-55 248.97,-55.17 233.35,-55.52 219.62,-55.88\"/>\n",
       "<polygon fill=\"black\" stroke=\"black\" points=\"219.54,-52.38 209.64,-56.15 219.73,-59.37 219.54,-52.38\"/>\n",
       "<text xml:space=\"preserve\" text-anchor=\"middle\" x=\"443.95\" y=\"-57.29\" font-family=\"Times,serif\" font-size=\"14.00\">𝜀</text>\n",
       "</g>\n",
       "<!-- 10&#45;&gt;12 -->\n",
       "<g id=\"edge9\" class=\"edge\">\n",
       "<title>10&#45;&gt;12</title>\n",
       "<path fill=\"none\" stroke=\"black\" d=\"M732.95,-52.56C746.78,-48.97 764.35,-44.4 780.06,-40.31\"/>\n",
       "<polygon fill=\"black\" stroke=\"black\" points=\"780.82,-43.73 789.62,-37.82 779.06,-36.95 780.82,-43.73\"/>\n",
       "<text xml:space=\"preserve\" text-anchor=\"middle\" x=\"761.95\" y=\"-49.55\" font-family=\"Times,serif\" font-size=\"14.00\">𝜀</text>\n",
       "</g>\n",
       "</g>\n",
       "</svg>\n"
      ],
      "text/plain": [
       "<graphviz.graphs.Digraph at 0x7f7ea43e7b60>"
      ]
     },
     "execution_count": 8,
     "metadata": {},
     "output_type": "execute_result"
    }
   ],
   "source": [
    "d = nfa2dot(nfa) \n",
    "d       "
   ]
  },
  {
   "cell_type": "markdown",
   "metadata": {},
   "source": [
    "After having constructed a non-deterministic <span style=\"font-variant:small-caps;\">Fsm</span> for the regular expression,\n",
    "we convert it into a deterministic <span style=\"font-variant:small-caps;\">Fsm</span>."
   ]
  },
  {
   "cell_type": "code",
   "execution_count": null,
   "metadata": {},
   "outputs": [],
   "source": [
    "%run 01-NFA-2-DFA.ipynb"
   ]
  },
  {
   "cell_type": "code",
   "execution_count": null,
   "metadata": {},
   "outputs": [],
   "source": [
    "%unload_ext nb_mypy"
   ]
  },
  {
   "cell_type": "code",
   "execution_count": null,
   "metadata": {},
   "outputs": [],
   "source": [
    "dfa = nfa2dfa(nfa) \n",
    "dfa"
   ]
  },
  {
   "cell_type": "code",
   "execution_count": null,
   "metadata": {},
   "outputs": [],
   "source": [
    "d, S = dfa2dot(dfa) \n",
    "d"
   ]
  },
  {
   "cell_type": "markdown",
   "metadata": {},
   "source": [
    "Note that the resulting DFA is not minimal, since we can identify some states."
   ]
  },
  {
   "cell_type": "code",
   "execution_count": null,
   "metadata": {},
   "outputs": [],
   "source": [
    "S"
   ]
  },
  {
   "cell_type": "code",
   "execution_count": null,
   "metadata": {},
   "outputs": [],
   "source": []
  }
 ],
 "metadata": {
  "kernelspec": {
   "display_name": "Python 3 (ipykernel)",
   "language": "python",
   "name": "python3"
  },
  "language_info": {
   "codemirror_mode": {
    "name": "ipython",
    "version": 3
   },
   "file_extension": ".py",
   "mimetype": "text/x-python",
   "name": "python",
   "nbconvert_exporter": "python",
   "pygments_lexer": "ipython3",
   "version": "3.13.7"
  },
  "varInspector": {
   "cols": {
    "lenName": 16,
    "lenType": 16,
    "lenVar": 40
   },
   "kernels_config": {
    "python": {
     "delete_cmd_postfix": "",
     "delete_cmd_prefix": "del ",
     "library": "var_list.py",
     "varRefreshCmd": "print(var_dic_list())"
    },
    "r": {
     "delete_cmd_postfix": ") ",
     "delete_cmd_prefix": "rm(",
     "library": "var_list.r",
     "varRefreshCmd": "cat(var_dic_list()) "
    }
   },
   "types_to_exclude": [
    "module",
    "function",
    "builtin_function_or_method",
    "instance",
    "_Feature"
   ],
   "window_display": false
  }
 },
 "nbformat": 4,
 "nbformat_minor": 4
}
