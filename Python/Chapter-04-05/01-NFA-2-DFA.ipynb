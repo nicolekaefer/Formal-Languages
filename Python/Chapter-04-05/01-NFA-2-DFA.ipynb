{
 "cells": [
  {
   "cell_type": "code",
   "execution_count": null,
   "metadata": {},
   "outputs": [],
   "source": [
    "from IPython.display import HTML\n",
    "HTML(open('../style.css').read())"
   ]
  },
  {
   "cell_type": "code",
   "execution_count": null,
   "metadata": {},
   "outputs": [],
   "source": [
    "%load_ext nb_mypy"
   ]
  },
  {
   "cell_type": "code",
   "execution_count": null,
   "metadata": {},
   "outputs": [],
   "source": [
    "from typing import TypeVar"
   ]
  },
  {
   "cell_type": "markdown",
   "metadata": {},
   "source": [
    "# Converting a Non-Deterministic <span style=\"font-variant:small-caps;\">Fsm</span> into a Deterministic <span style=\"font-variant:small-caps;\">Fsm</span>"
   ]
  },
  {
   "cell_type": "markdown",
   "metadata": {},
   "source": [
    "In this notebook we show how a non-deterministic <span style=\"font-variant:small-caps;\">Fsm</span>\n",
    "$$ F = \\langle Q, \\Sigma, \\delta, q_0, A \\rangle $$\n",
    "can be transformed into a deterministic <span style=\"font-variant:small-caps;\">Fsm</span> $\\texttt{det}(F)$ such that both <span style=\"font-variant:small-caps;\">Fsm</span>s accept the\n",
    "same language, that is we have\n",
    "$$ L(F) = L\\bigl(\\texttt{det}(F)\\bigr). $$\n",
    "The idea behind this transformation is that the <span style=\"font-variant:small-caps;\">Fsm</span> $\\texttt{det}(F)$ has to \n",
    "compute the set of all states that the <span style=\"font-variant:small-caps;\">Fsm</span> $F$ could be in. \n",
    "Hence the states of the deterministic <span style=\"font-variant:small-caps;\">Fsm</span> $\\texttt{det}(F)$ are \n",
    "**sets** of states of the non-deterministic <span style=\"font-variant:small-caps;\">Fsm</span> $F$.  A set of these states contains all those states that the non-deterministic <span style=\"font-variant:small-caps;\">Fsm</span> \n",
    "$F$ could have reached.  Furthermore, a set $M$ of states of the <span style=\"font-variant:small-caps;\">Fsm</span> $F$ is an accepting state of the <span style=\"font-variant:small-caps;\">Fsm</span> $\\texttt{det}(F)$ if the set $M$ contains an accepting state of the <span style=\"font-variant:small-caps;\">Fsm</span> $F$."
   ]
  },
  {
   "cell_type": "markdown",
   "metadata": {},
   "source": [
    "## Declaring the Necessary Types"
   ]
  },
  {
   "cell_type": "markdown",
   "metadata": {},
   "source": [
    "`State` is the abstract type of the states of an <span style=\"font-variant:small-caps;\">Fsm</span>."
   ]
  },
  {
   "cell_type": "code",
   "execution_count": null,
   "metadata": {},
   "outputs": [],
   "source": [
    "State = TypeVar('State')"
   ]
  },
  {
   "cell_type": "code",
   "execution_count": null,
   "metadata": {},
   "outputs": [],
   "source": [
    "Char = str"
   ]
  },
  {
   "cell_type": "markdown",
   "metadata": {},
   "source": [
    "We represent the non-deterministic transition relation $\\delta$ by the following type:"
   ]
  },
  {
   "cell_type": "code",
   "execution_count": null,
   "metadata": {},
   "outputs": [],
   "source": [
    "TransRel = dict[tuple[State, Char], set[State]]"
   ]
  },
  {
   "cell_type": "markdown",
   "metadata": {},
   "source": [
    "The type of the deterministic transition relation is more complicated, since the states of the deterministic <span style=\"font-variant:small-caps;\">Fsm</span> are set of the states of the non-deterministic <span style=\"font-variant:small-caps;\">Fsm</span>."
   ]
  },
  {
   "cell_type": "code",
   "execution_count": null,
   "metadata": {},
   "outputs": [],
   "source": [
    "TransRelDet = dict[tuple[frozenset[State], Char], frozenset[State]]"
   ]
  },
  {
   "cell_type": "markdown",
   "metadata": {},
   "source": [
    "A non-deterministic finite state machine has the following type:"
   ]
  },
  {
   "cell_type": "code",
   "execution_count": null,
   "metadata": {},
   "outputs": [],
   "source": [
    "NFA = tuple[frozenset[State], set[Char], TransRel, State, frozenset[State]]"
   ]
  },
  {
   "cell_type": "markdown",
   "metadata": {},
   "source": [
    "The deterministic finite state machines produced in this notebook have the following type."
   ]
  },
  {
   "cell_type": "code",
   "execution_count": null,
   "metadata": {},
   "outputs": [],
   "source": [
    "DFA = tuple[set[frozenset[State]], set[Char], TransRelDet, frozenset[State], set[frozenset[State]]]"
   ]
  },
  {
   "cell_type": "markdown",
   "metadata": {},
   "source": [
    "<hr style=\"height:5px;background-color:blue\">"
   ]
  },
  {
   "cell_type": "markdown",
   "metadata": {},
   "source": [
    "In order to present the construction of $\\texttt{det}(F)$ we first have to define three auxiliary functions.\n",
    "We start with the function `bigUnion`.  Given a set `M` that contains frozensets, the epression `bigUnion(M)`\n",
    "returns the union of all sets in `M`, i.e. we have\n",
    "$$ \\texttt{bigUnion}(M) = \\bigcup M = \\bigl\\{ x \\bigm| \\exists A \\in M: x \\in A \\bigr\\}. $$\n",
    "The resulting set is returned as a `frozenset`."
   ]
  },
  {
   "cell_type": "code",
   "execution_count": null,
   "metadata": {},
   "outputs": [],
   "source": [
    "def bigUnion[T](M: set[frozenset[T]]) -> frozenset[T]:\n",
    "    return frozenset({ x for A in M \n",
    "                         for x in A \n",
    "                     })"
   ]
  },
  {
   "cell_type": "code",
   "execution_count": null,
   "metadata": {},
   "outputs": [],
   "source": [
    "bigUnion({ frozenset({1,2,3}), frozenset({2,3,4}), frozenset({3,4,5}) })"
   ]
  },
  {
   "cell_type": "markdown",
   "metadata": {},
   "source": [
    "The function `epsClosure` takes two arguments:\n",
    "- `s` is a state, \n",
    "- `δ` is the transition function of the <span style=\"font-variant:small-caps;\">Nfa</span> $F$.\n",
    "\n",
    "The function computes the set of all those states that can be reached from the state\n",
    "`s` via $\\varepsilon$-transitions.\n",
    "Formally, the set $\\texttt{epsClosure}(q)$ is defined inductively:\n",
    "- $s \\in \\texttt{epsClosure}(s)$.\n",
    "- $p \\in \\texttt{epsClosure}(s) \\wedge r \\in \\delta(p, \\varepsilon) \\;\\rightarrow\\; r \\in \\texttt{epsClosure}(s)$.\n",
    " \n",
    "  If the state $p$ is an element of the $\\varepsilon$-closure of the state $s$ \n",
    "  and there is an $\\varepsilon$-transition from $p$ to some state $r$, then $r$ \n",
    "  is also an element of the $\\varepsilon$-transition of $s$.\n",
    "  \n",
    "The implementation of `epsClosure` uses a *fixed-point algorithm*."
   ]
  },
  {
   "cell_type": "code",
   "execution_count": null,
   "metadata": {},
   "outputs": [],
   "source": [
    "def epsClosure(s: State, δ: TransRel) -> frozenset[State]:\n",
    "    Result = frozenset({ s })\n",
    "    while True:\n",
    "        NewStates = bigUnion({ frozenset(δ.get((q, '𝜀'), set())) for q in Result })\n",
    "        if NewStates <= Result:\n",
    "            return Result\n",
    "        Result |= NewStates"
   ]
  },
  {
   "cell_type": "markdown",
   "metadata": {},
   "source": [
    "In order to transform a non-deterministic <span style=\"font-variant:small-caps;\">Fsm</span> $F$ into a deterministic \n",
    "<span style=\"font-variant:small-caps;\">Fsm</span>\n",
    "$\\texttt{det}(F)$ we have to extend the function $\\delta:Q \\times \\Sigma \\rightarrow 2^Q$ into the function\n",
    "$$\\widehat{\\delta}: Q \\times \\Sigma \\rightarrow 2^Q. $$\n",
    "The idea is that given a state $q$ and a character $c$,  the value of $\\widehat{\\delta}(q,c)$ is the set of all states that the\n",
    "<span style=\"font-variant:small-caps;\">Fsm</span> $F$ could reach when it reads the character $c$ in state $q$ and then performs an arbitrary number of $\\varepsilon$-transitions.  Formally, the definition of $\\widehat{\\delta}$ is as follows:\n",
    "$$ \\widehat{\\delta}(q_1, c) := \\bigcup \\bigl\\{ \\texttt{epsClosure}(q_2) \\bigm| q_2 \\in \\delta(q_1, c) \\bigr \\}. $$\n",
    "This formula is to be read as follows:\n",
    "- For every state $q_2 \\in Q$ that can be reached from the state $q_1$ by reading the character $c$ we\n",
    "  compute $\\texttt{epsClosure}(q_2)$.\n",
    "- Then we take the union of all these sets $\\texttt{epsClosure}(q_2)$.\n",
    "\n",
    "The function $\\widehat{\\delta}$ is implemented as the function `deltaHat`, which takes three arguments:\n",
    "- `s` is a state,\n",
    "- `c` is a character,\n",
    "- `𝛿` is the transition function of a non-deterministic \n",
    "  <span style=\"font-variant:small-caps;\">Fsm</span>.\n",
    "\n",
    "This function computes the set of all those states that can be reached \n",
    "from `s` when we first have a transition from state `s` to some state `p` \n",
    "on reading the character `c` followed by any number of $\\varepsilon$-transitions\n",
    "starting in `p`."
   ]
  },
  {
   "cell_type": "code",
   "execution_count": null,
   "metadata": {},
   "outputs": [],
   "source": [
    "def deltaHat(s: State, c: Char, δ: TransRel) -> frozenset[State]:\n",
    "    return bigUnion({ epsClosure(q, δ) for q in δ.get((s, c), set()) })"
   ]
  },
  {
   "cell_type": "markdown",
   "metadata": {},
   "source": [
    "The function  $\\widehat{\\delta}$ maps a state into a set of states.  Since the <span style=\"font-variant:small-caps;\">Fsm</span> $\\texttt{det}(F)$ uses sets of states of the <span style=\"font-variant:small-caps;\">Fsm</span> $F$ as its states we need a function that maps sets of states of the <span style=\"font-variant:small-caps;\">Fsm</span> $F$ into sets of states.  Hence we generalize \n",
    "the function $\\widehat{\\delta}$ to the function\n",
    "$$ \\Delta: 2^Q \\times \\Sigma \\rightarrow 2^Q $$\n",
    "such that for a set $M$ of states and a character $c$ the expression $\\Delta(M, c)$\n",
    "computes the set of all those states that the <span style=\"font-variant:small-caps;\">Fsm</span> $F$ could be in if it is in a state from the set $M$, then\n",
    "reads the character $c$, and finally makes some $\\varepsilon$-transitions.\n",
    "The formal definition is as follows: \n",
    "$$ \\Delta(M,c) := \\bigcup \\bigl\\{ \\widehat{\\delta}(q,c) \\bigm| q \\in M \\bigr\\}. $$\n",
    "This formula is easy to understand:  For every state  $q \\in M$ we compute the set of states that the\n",
    "<span style=\"font-variant:small-caps;\">Fsm</span> could be in after reading the character $c$ and doing some \n",
    "$\\varepsilon$-transitions.  Then we take the union of these sets."
   ]
  },
  {
   "cell_type": "code",
   "execution_count": null,
   "metadata": {},
   "outputs": [],
   "source": [
    "def capitalDelta(M: frozenset[State], c: Char, δ: TransRel) -> frozenset[State]:\n",
    "    return bigUnion({ deltaHat(q, c, δ) for q in M })"
   ]
  },
  {
   "cell_type": "markdown",
   "metadata": {},
   "source": [
    "The function `allStates` takes three arguments:\n",
    "- $Q$ is $\\texttt{epsClosure}(q_0)$, where $q_0$ is the start state of the deterministic <span style=\"font-variant:small-caps;\">Fsm</span> $\\texttt{det}(F)$,\n",
    "- $\\delta$ is the transition function of the non-deterministic <span style=\"font-variant:small-caps;\">Fsm</span> $F$, and\n",
    "- $\\Sigma$ is the alphabet of the non-deterministic <span style=\"font-variant:small-caps;\">Fsm</span> $F$.\n",
    "\n",
    "The function `allStates` computes the set of all states of the deterministic <span style=\"font-variant:small-caps;\">Fsm</span> $\\texttt{det}(F)$\n",
    "that can be reached from the start state."
   ]
  },
  {
   "cell_type": "code",
   "execution_count": null,
   "metadata": {},
   "outputs": [],
   "source": [
    "def allStates(Q: frozenset[State], δ: TransRel, Σ: set[Char]) -> set[frozenset[State]]:\n",
    "    Result = { Q }\n",
    "    while True:\n",
    "        NewStates = { capitalDelta(M, c, δ) for M in Result \n",
    "                                            for c in Σ\n",
    "                    }\n",
    "        if NewStates <= Result:\n",
    "            return Result\n",
    "        Result |= NewStates"
   ]
  },
  {
   "cell_type": "markdown",
   "metadata": {},
   "source": [
    "Now we are ready to formally define how the deterministic <span style=\"font-variant:small-caps;\">Fsm</span> $\\texttt{det}(F)$\n",
    "is computed from the non-deterministic <span style=\"font-variant:small-caps;\">Fsm</span>\n",
    "$F = \\bigl\\langle Q, \\Sigma, \\delta, q_0, A \\bigr\\rangle$.\n",
    "We define: \n",
    "$$ \\texttt{det}(F) := \\bigl\\langle \\texttt{allStates}(\\texttt{epsClosure}(q_0)), \\Sigma, \\Delta, \\texttt{epsClosure}(q_0), \\widehat{A} \\bigr\\rangle $$\n",
    "where the components of this tuple are given as follows:\n",
    "- The set of states of $\\texttt{det}(F)$ is the set of all states that can be reached from the set $\\texttt{epsClosure}(q_0)$.\n",
    "- The input alphabet $\\Sigma$ does not change when going from $F$ to $\\texttt{det}(F)$.\n",
    "  After all, the deterministic <span style=\"font-variant:small-caps;\">Fsm</span> $\\texttt{det}(F)$ has to recognize the same language as the non-deterministic\n",
    "  <span style=\"font-variant:small-caps;\">Fsm</span> $F$.\n",
    "- The function $\\Delta$, that has been defined previously, specified how the set of states change when a\n",
    "  character is read.\n",
    "- The start state $\\texttt{epsClosure}(q_0)$ of the non-deterministic <span style=\"font-variant:small-caps;\">Fsm</span> $\\texttt{det}(F)$ is the set of all states\n",
    "  that can be reached from the start state $q_0$ of the non-deterministic <span style=\"font-variant:small-caps;\">Fsm</span> $F$\n",
    "  via $\\varepsilon$-transitions.\n",
    "- The set of accepting states $\\widehat{A}$ is the set of those subsets of $Q$ that contain an accepting\n",
    "  state of the <span style=\"font-variant:small-caps;\">Fsm</span> $F$:\n",
    "  $$\\widehat{A} := \\bigl\\{ M \\in 2^Q \\mid M \\cap A \\not= \\{\\} \\bigl\\}. $$"
   ]
  },
  {
   "cell_type": "code",
   "execution_count": null,
   "metadata": {},
   "outputs": [],
   "source": [
    "def nfa2dfa(nfa: NFA) -> DFA:\n",
    "    States, Σ, δ, q0, Final = nfa\n",
    "    newStart  = epsClosure(q0, δ)\n",
    "    NewStates = allStates(newStart, δ, Σ)\n",
    "    newδ  = { (M, c): capitalDelta(M, c, δ) for M in NewStates\n",
    "                                            for c in Σ\n",
    "            }\n",
    "    NewFinal = { M for M in NewStates if  M & Final != set() }\n",
    "    return NewStates, Σ, newδ, newStart, NewFinal"
   ]
  },
  {
   "cell_type": "markdown",
   "metadata": {},
   "source": [
    "To test this function, use the notebook `02-Test-NFA-2-DFA.ipynb`."
   ]
  },
  {
   "cell_type": "code",
   "execution_count": null,
   "metadata": {},
   "outputs": [],
   "source": []
  }
 ],
 "metadata": {
  "kernelspec": {
   "display_name": "Python 3 (ipykernel)",
   "language": "python",
   "name": "python3"
  },
  "language_info": {
   "codemirror_mode": {
    "name": "ipython",
    "version": 3
   },
   "file_extension": ".py",
   "mimetype": "text/x-python",
   "name": "python",
   "nbconvert_exporter": "python",
   "pygments_lexer": "ipython3",
   "version": "3.13.7"
  },
  "varInspector": {
   "cols": {
    "lenName": 16,
    "lenType": 16,
    "lenVar": 40
   },
   "kernels_config": {
    "python": {
     "delete_cmd_postfix": "",
     "delete_cmd_prefix": "del ",
     "library": "var_list.py",
     "varRefreshCmd": "print(var_dic_list())"
    },
    "r": {
     "delete_cmd_postfix": ") ",
     "delete_cmd_prefix": "rm(",
     "library": "var_list.r",
     "varRefreshCmd": "cat(var_dic_list()) "
    }
   },
   "types_to_exclude": [
    "module",
    "function",
    "builtin_function_or_method",
    "instance",
    "_Feature"
   ],
   "window_display": false
  }
 },
 "nbformat": 4,
 "nbformat_minor": 4
}
