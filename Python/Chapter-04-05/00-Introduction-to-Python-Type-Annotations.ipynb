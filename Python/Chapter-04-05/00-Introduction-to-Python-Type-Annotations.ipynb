{
 "cells": [
  {
   "cell_type": "code",
   "execution_count": null,
   "id": "f269092f",
   "metadata": {},
   "outputs": [],
   "source": [
    "from IPython.display import HTML\n",
    "HTML(open('../style.css').read())"
   ]
  },
  {
   "cell_type": "markdown",
   "id": "c1800490",
   "metadata": {},
   "source": [
    "# An introduction to Gradual Typing in Python\n",
    "\n",
    "Gradual typing is a programming language feature that allows developers to gradually add type annotations to their code. In Python, this means you can mix statically typed and dynamically typed code within the same program, taking advantage of both worlds. Type annotations can be added to variables, function parameters, and function return values, offering better documentation and enabling more robust static analysis through tools like [mypy](https://mypy-lang.org/). The type system is designed to be flexible and can accommodate a wide range of patterns, including \n",
    "+ *generic types*, \n",
    "+ *union types*, and \n",
    "+ *user defined types*. \n",
    "\n",
    "By incrementally adding type annotations, developers can make their Python code more self-explanatory, easier to debug, and more maintainable, while also catching potential type errors before runtime. "
   ]
  },
  {
   "cell_type": "markdown",
   "id": "3582a2a3",
   "metadata": {},
   "source": [
    "In order to use `mypy` in a Jupyter notebook, we first have to load the notebook extension for `mypy`."
   ]
  },
  {
   "cell_type": "code",
   "execution_count": null,
   "id": "7dabec28",
   "metadata": {},
   "outputs": [],
   "source": [
    "%load_ext nb_mypy"
   ]
  },
  {
   "cell_type": "markdown",
   "id": "2b24b7be",
   "metadata": {},
   "source": [
    "## Finding Errors by Type Checking\n",
    "\n",
    "The following two lines contain an error that `mypy` is able to find."
   ]
  },
  {
   "cell_type": "code",
   "execution_count": null,
   "id": "22932d5e",
   "metadata": {},
   "outputs": [],
   "source": [
    "number = input(\"What is your favourite number? \")\n",
    "print(\"It is\", number + 1)  "
   ]
  },
  {
   "cell_type": "markdown",
   "id": "8c247f37",
   "metadata": {},
   "source": [
    "The correct version of the two lines above would have been as follows:"
   ]
  },
  {
   "cell_type": "code",
   "execution_count": null,
   "id": "7ace274e",
   "metadata": {},
   "outputs": [],
   "source": [
    "number = int(input(\"What is your favourite number? \"))\n",
    "print(f'It is {number + 1}.') "
   ]
  },
  {
   "cell_type": "markdown",
   "id": "ae67818e",
   "metadata": {},
   "source": [
    "## Type Annotations\n",
    "\n",
    "The most basic form of type checking in Python is specifying the types of variables and function return values.\n",
    "To type check a function, you annotate the type of a parameter by putting a colon after the name of the variable. \n",
    "The return type of the function is specified using the `->` syntax as shown below."
   ]
  },
  {
   "cell_type": "code",
   "execution_count": null,
   "id": "919e84e9",
   "metadata": {},
   "outputs": [],
   "source": [
    "def add(a: int, b: int) -> int:\n",
    "    return a + b"
   ]
  },
  {
   "cell_type": "markdown",
   "id": "de33d9d5",
   "metadata": {},
   "source": [
    "In the next cell the **type checker** tells us, that we have called the function `add` with strings instead of integers.  \n",
    "The **Python interpreter** executes this cell without encountering an error, since the interpreter does not care about the type annotations. "
   ]
  },
  {
   "cell_type": "code",
   "execution_count": null,
   "id": "62c1f082",
   "metadata": {},
   "outputs": [],
   "source": [
    "name = 'Karl'\n",
    "add('Hello ', name)    "
   ]
  },
  {
   "cell_type": "markdown",
   "id": "d8ef7bc7",
   "metadata": {},
   "source": [
    "If necessary, we can inspect the type annotations of a function at runtime via the attribute `__annotations__` as shown below."
   ]
  },
  {
   "cell_type": "code",
   "execution_count": null,
   "id": "4e7768fc",
   "metadata": {},
   "outputs": [],
   "source": [
    "add.__annotations__"
   ]
  },
  {
   "cell_type": "markdown",
   "id": "40af0ebf",
   "metadata": {},
   "source": [
    "If we do not use type annotations for a function `f`, the dictionary `f.__annotations__` is empty."
   ]
  },
  {
   "cell_type": "code",
   "execution_count": null,
   "id": "771c3c44-3322-4068-bfc6-3bad3f8acd7a",
   "metadata": {},
   "outputs": [],
   "source": [
    "def sub(a, b):\n",
    "    return a - b"
   ]
  },
  {
   "cell_type": "code",
   "execution_count": null,
   "id": "34c5a8fb-e877-4755-a717-412a90f0e460",
   "metadata": {},
   "outputs": [],
   "source": [
    "sub.__annotations__"
   ]
  },
  {
   "cell_type": "markdown",
   "id": "947096a5",
   "metadata": {},
   "source": [
    "## Built-in Types\n",
    "\n",
    "`mypy` supports all built-in Python types like `int`, `float`, `str`, and `bool`.\n",
    "Complex types like `list`, `tuple`, and `dict` are also supported.  "
   ]
  },
  {
   "cell_type": "markdown",
   "id": "28ab0b18",
   "metadata": {},
   "source": [
    "The function `average(L)` computes the arithmetic mean of the numbers in the list `L`. "
   ]
  },
  {
   "cell_type": "code",
   "execution_count": null,
   "id": "66708073",
   "metadata": {},
   "outputs": [],
   "source": [
    "def average(numbers: list[int|float]) -> float:\n",
    "    return sum(numbers) / len(numbers)"
   ]
  },
  {
   "cell_type": "code",
   "execution_count": null,
   "id": "f2c56bed",
   "metadata": {},
   "outputs": [],
   "source": [
    "average([1, 2, 3, 4])"
   ]
  },
  {
   "cell_type": "markdown",
   "id": "bf0f2fc5",
   "metadata": {},
   "source": [
    "## Custom Types\n",
    "You can define your own types using the `class` keyword. Note that the parameter `self` should not have a type annotation.\n",
    "The reason is that `self` implicitly has the type `Person`."
   ]
  },
  {
   "cell_type": "code",
   "execution_count": null,
   "id": "1ca89bd6",
   "metadata": {},
   "outputs": [],
   "source": [
    "class Person:\n",
    "    def __init__(self, name: str):\n",
    "        self.name = name\n",
    "\n",
    "    def greet(self) -> str:\n",
    "        return f\"Hello, {self.name}!\""
   ]
  },
  {
   "cell_type": "markdown",
   "id": "0178bc81",
   "metadata": {},
   "source": [
    "When a function does not return a value, the return type is `None`."
   ]
  },
  {
   "cell_type": "code",
   "execution_count": null,
   "id": "b14d5144",
   "metadata": {},
   "outputs": [],
   "source": [
    "def salve(p: Person) -> None:\n",
    "    print(p.greet())"
   ]
  },
  {
   "cell_type": "code",
   "execution_count": null,
   "id": "5b7899de",
   "metadata": {},
   "outputs": [],
   "source": [
    "jc = Person('Julius Caesar')\n",
    "salve(jc)"
   ]
  },
  {
   "cell_type": "markdown",
   "id": "d163ec5a",
   "metadata": {},
   "source": [
    "The function `greet_name` either accepts a string representing a name as its argument, \n",
    "or it accepts a dictionary as its argument.  The dictionary is supposed to store both \n",
    "the first name under the key `given` and the last name under the key `family`.  \n",
    "\n",
    "The *union* operator `|` can be used to express the fact that `name`can either be a\n",
    "`str` or a `dict[str, str]`."
   ]
  },
  {
   "cell_type": "code",
   "execution_count": null,
   "id": "e3c495d6",
   "metadata": {},
   "outputs": [],
   "source": [
    "def greet_name(name: str | dict[str, str]) -> str:\n",
    "    if isinstance(name, str):\n",
    "        return 'Hi ' + name + '!'\n",
    "    if isinstance(name, dict):\n",
    "        return f\"Bienvenido, Señor {name['given']} {name['family']}.\""
   ]
  },
  {
   "cell_type": "code",
   "execution_count": null,
   "id": "c386d97c",
   "metadata": {},
   "outputs": [],
   "source": [
    "greet_name(\"Alice\")"
   ]
  },
  {
   "cell_type": "code",
   "execution_count": null,
   "id": "9a2a9320",
   "metadata": {},
   "outputs": [],
   "source": [
    "greet_name({'given': 'Esteban', 'family': 'Ramirez'})"
   ]
  },
  {
   "cell_type": "markdown",
   "id": "6f4265d5",
   "metadata": {},
   "source": [
    "## Typing Generic Functions Using `TypeVar`"
   ]
  },
  {
   "cell_type": "code",
   "execution_count": null,
   "id": "5ecb39dc",
   "metadata": {},
   "outputs": [],
   "source": [
    "from typing import TypeVar"
   ]
  },
  {
   "cell_type": "markdown",
   "id": "73df5ace",
   "metadata": {},
   "source": [
    "The next example shows how to type *generic*  functions.  This is done using the function `TypeVar`, \n",
    "which creates a new type variable."
   ]
  },
  {
   "cell_type": "code",
   "execution_count": null,
   "id": "103087ab",
   "metadata": {},
   "outputs": [],
   "source": [
    "S = TypeVar('S')\n",
    "T = TypeVar('T')"
   ]
  },
  {
   "cell_type": "markdown",
   "id": "8221c024",
   "metadata": {},
   "source": [
    "The function `swap` takes a pair of elements that should be of the same type.  \n",
    "It swaps the order of these elements. swaps the elements of a pair (a 2-tuple). The function   \n",
    "`swap` is *generic*, meaning it is able to handle pairs of integers, strings, or any other type."
   ]
  },
  {
   "cell_type": "code",
   "execution_count": null,
   "id": "fe02e505",
   "metadata": {},
   "outputs": [],
   "source": [
    "def swap(pair: tuple[S, T]) -> tuple[T, S]:\n",
    "    x, y = pair\n",
    "    return y, x"
   ]
  },
  {
   "cell_type": "markdown",
   "id": "3cd21c5d",
   "metadata": {},
   "source": [
    "In the next cell, the type variable `T` is instantiated as `int`."
   ]
  },
  {
   "cell_type": "code",
   "execution_count": null,
   "id": "81995fee",
   "metadata": {},
   "outputs": [],
   "source": [
    "swap((1, 2))"
   ]
  },
  {
   "cell_type": "markdown",
   "id": "759f47ed",
   "metadata": {},
   "source": [
    "In the following cell, the type variable `T` is instantiated as `str`."
   ]
  },
  {
   "cell_type": "code",
   "execution_count": null,
   "id": "7cef6e2d",
   "metadata": {},
   "outputs": [],
   "source": [
    "swap(('a', 'b'))"
   ]
  },
  {
   "cell_type": "markdown",
   "id": "6338c4a1",
   "metadata": {},
   "source": [
    "Below, the type variable the type variable `T` is instantiated as `object`."
   ]
  },
  {
   "cell_type": "code",
   "execution_count": null,
   "id": "1085d68c",
   "metadata": {},
   "outputs": [],
   "source": [
    "swap((1, 'a'))"
   ]
  },
  {
   "cell_type": "markdown",
   "id": "eea5a5ff",
   "metadata": {},
   "source": [
    "## Typing Generic Functions Using Square Brackets"
   ]
  },
  {
   "cell_type": "code",
   "execution_count": null,
   "id": "1215572b",
   "metadata": {},
   "outputs": [],
   "source": [
    "def rotate[U,V,W](triple: tuple[U, V, W]) -> tuple[V, W, U]:\n",
    "    x, y, z = triple\n",
    "    return y, z, x"
   ]
  },
  {
   "cell_type": "code",
   "execution_count": null,
   "id": "fa8225f1",
   "metadata": {},
   "outputs": [],
   "source": [
    "rotate( (1, 'a', True) )"
   ]
  },
  {
   "cell_type": "markdown",
   "id": "a99ed2d5",
   "metadata": {},
   "source": [
    "## Recursive Types"
   ]
  },
  {
   "cell_type": "code",
   "execution_count": null,
   "id": "21ed26b0",
   "metadata": {},
   "outputs": [],
   "source": [
    "from typing import Literal"
   ]
  },
  {
   "cell_type": "code",
   "execution_count": null,
   "id": "ed4183de",
   "metadata": {},
   "outputs": [],
   "source": [
    "type Operator = Literal['+', '-', '*', '/']"
   ]
  },
  {
   "cell_type": "code",
   "execution_count": null,
   "id": "a02b4d2c",
   "metadata": {},
   "outputs": [],
   "source": [
    "type Expression = float | str | tuple[Expression, Operator, Expression] "
   ]
  },
  {
   "cell_type": "markdown",
   "id": "b6d6554f",
   "metadata": {},
   "source": [
    "The function `differentiate(e, x)` takes an arithmetic expression `e` and a variable `x`\n",
    "and compute the derivative of `e` with respect to `x`."
   ]
  },
  {
   "cell_type": "code",
   "execution_count": null,
   "id": "26622184",
   "metadata": {},
   "outputs": [],
   "source": [
    "def differentiate(expr: Expression, var: str = 'x') -> Expression:\n",
    "    match expr:\n",
    "        case float():\n",
    "            return 0.0\n",
    "        case str():\n",
    "            return 1.0 if expr == var else 0.0\n",
    "        case (lhs, op, rhs):\n",
    "            dLhs = differentiate(lhs, var)\n",
    "            dRhs = differentiate(rhs, var)\n",
    "            match op:\n",
    "                case '+':\n",
    "                    return (dLhs, '+', dRhs)\n",
    "                case '-':\n",
    "                    return (dLhs, '-', dRhs)\n",
    "                case '*':\n",
    "                    p1: Expression = (dLhs, '*',  rhs)\n",
    "                    p2: Expression = ( lhs, '*', dRhs)    \n",
    "                    return (p1, '+', p2)\n",
    "                case '/':\n",
    "                    q1: Expression = (dLhs, '*',  rhs)\n",
    "                    q2: Expression = ( lhs, '*', dRhs)    \n",
    "                    numerator   : Expression = (q1, '-', q2)\n",
    "                    denominator : Expression = (rhs, '*', rhs)\n",
    "                    return (numerator, '/', denominator)\n",
    "    return 0.0"
   ]
  },
  {
   "cell_type": "markdown",
   "id": "ef880e50",
   "metadata": {},
   "source": [
    "Unfortunately, due to an error in mypy, the function below does not type check."
   ]
  },
  {
   "cell_type": "code",
   "execution_count": null,
   "id": "77f248da",
   "metadata": {},
   "outputs": [],
   "source": [
    "def differentiate(expr: Expression, var: str = 'x') -> Expression:\n",
    "    match expr:\n",
    "        case float():\n",
    "            return 0.0\n",
    "        case str():\n",
    "            return 1.0 if expr == var else 0.0\n",
    "        case (lhs, op, rhs):\n",
    "            dLhs = differentiate(lhs, var)\n",
    "            dRhs = differentiate(rhs, var)\n",
    "            match op:\n",
    "                case '+':\n",
    "                    return (dLhs, '+', dRhs)\n",
    "                case '-':\n",
    "                    return (dLhs, '-', dRhs)\n",
    "                case '*':\n",
    "                    return ((dLhs, '*', dRhs), '+', (lhs, '*', dRhs))\n",
    "                case '/':\n",
    "                    numerator   = ((dLhs, '*', rhs), '-', (lhs, '*', dRhs))\n",
    "                    denominator = (rhs, '*', rhs)\n",
    "                    return (numerator, '/', denominator)\n",
    "    return 0.0"
   ]
  },
  {
   "cell_type": "code",
   "execution_count": null,
   "id": "1a81fa57",
   "metadata": {},
   "outputs": [],
   "source": []
  }
 ],
 "metadata": {
  "kernelspec": {
   "display_name": "Python 3 (ipykernel)",
   "language": "python",
   "name": "python3"
  },
  "language_info": {
   "codemirror_mode": {
    "name": "ipython",
    "version": 3
   },
   "file_extension": ".py",
   "mimetype": "text/x-python",
   "name": "python",
   "nbconvert_exporter": "python",
   "pygments_lexer": "ipython3",
   "version": "3.13.5"
  }
 },
 "nbformat": 4,
 "nbformat_minor": 5
}
